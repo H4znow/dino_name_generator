{
 "cells": [
  {
   "cell_type": "markdown",
   "metadata": {},
   "source": [
    "# Name Generator for Dinosaurs\n",
    "\n",
    "### @Author : HADDOU Amine\n",
    "\n",
    "The goal of this project is to developp different neural network models to generates new dinosaur names.<br>\n",
    "The objective is to developp the following two models : \n",
    "- n-grams model language\n",
    "- a pre-trained model (from hugginface) finetuned to the project goal."
   ]
  },
  {
   "cell_type": "markdown",
   "metadata": {},
   "source": [
    "# Modules Import"
   ]
  },
  {
   "cell_type": "code",
   "execution_count": 1,
   "metadata": {},
   "outputs": [],
   "source": [
    "import pandas as pd\n",
    "import numpy as np\n",
    "\n",
    "from tensorflow.keras.models import Model\n",
    "from tensorflow.keras.layers import Input, Embedding, LSTM, GRU, BatchNormalization, Dropout, Dense\n",
    "from tensorflow.keras.callbacks import EarlyStopping\n",
    "from tensorflow.keras.preprocessing.sequence import pad_sequences\n",
    "from tensorflow.keras import regularizers\n",
    "from tensorflow.keras.optimizers import Adam\n",
    "from sklearn.model_selection import train_test_split\n",
    "\n",
    "\n",
    "import matplotlib.pyplot as plt\n",
    "import os"
   ]
  },
  {
   "cell_type": "markdown",
   "metadata": {},
   "source": [
    "# Discovering data"
   ]
  },
  {
   "cell_type": "markdown",
   "metadata": {},
   "source": [
    "### Data Import"
   ]
  },
  {
   "cell_type": "markdown",
   "metadata": {},
   "source": [
    "Importing data from `data/dinos.txt`"
   ]
  },
  {
   "cell_type": "code",
   "execution_count": 2,
   "metadata": {},
   "outputs": [],
   "source": [
    "data = pd.read_csv(\"../data/dinos.txt\", names=[\"dino_name\"])"
   ]
  },
  {
   "cell_type": "code",
   "execution_count": 3,
   "metadata": {},
   "outputs": [
    {
     "data": {
      "text/html": [
       "<div>\n",
       "<style scoped>\n",
       "    .dataframe tbody tr th:only-of-type {\n",
       "        vertical-align: middle;\n",
       "    }\n",
       "\n",
       "    .dataframe tbody tr th {\n",
       "        vertical-align: top;\n",
       "    }\n",
       "\n",
       "    .dataframe thead th {\n",
       "        text-align: right;\n",
       "    }\n",
       "</style>\n",
       "<table border=\"1\" class=\"dataframe\">\n",
       "  <thead>\n",
       "    <tr style=\"text-align: right;\">\n",
       "      <th></th>\n",
       "      <th>dino_name</th>\n",
       "    </tr>\n",
       "  </thead>\n",
       "  <tbody>\n",
       "    <tr>\n",
       "      <th>0</th>\n",
       "      <td>Aachenosaurus</td>\n",
       "    </tr>\n",
       "    <tr>\n",
       "      <th>1</th>\n",
       "      <td>Aardonyx</td>\n",
       "    </tr>\n",
       "    <tr>\n",
       "      <th>2</th>\n",
       "      <td>Abdallahsaurus</td>\n",
       "    </tr>\n",
       "    <tr>\n",
       "      <th>3</th>\n",
       "      <td>Abelisaurus</td>\n",
       "    </tr>\n",
       "    <tr>\n",
       "      <th>4</th>\n",
       "      <td>Abrictosaurus</td>\n",
       "    </tr>\n",
       "  </tbody>\n",
       "</table>\n",
       "</div>"
      ],
      "text/plain": [
       "        dino_name\n",
       "0   Aachenosaurus\n",
       "1        Aardonyx\n",
       "2  Abdallahsaurus\n",
       "3     Abelisaurus\n",
       "4   Abrictosaurus"
      ]
     },
     "execution_count": 3,
     "metadata": {},
     "output_type": "execute_result"
    }
   ],
   "source": [
    "data.head()"
   ]
  },
  {
   "cell_type": "markdown",
   "metadata": {},
   "source": [
    "### Data Exploration"
   ]
  },
  {
   "cell_type": "markdown",
   "metadata": {},
   "source": [
    "There is an overview of the imported data."
   ]
  },
  {
   "cell_type": "code",
   "execution_count": 4,
   "metadata": {},
   "outputs": [
    {
     "name": "stdout",
     "output_type": "stream",
     "text": [
      "<class 'pandas.core.frame.DataFrame'>\n",
      "RangeIndex: 1536 entries, 0 to 1535\n",
      "Data columns (total 1 columns):\n",
      " #   Column     Non-Null Count  Dtype \n",
      "---  ------     --------------  ----- \n",
      " 0   dino_name  1536 non-null   object\n",
      "dtypes: object(1)\n",
      "memory usage: 12.1+ KB\n"
     ]
    }
   ],
   "source": [
    "data.info()"
   ]
  },
  {
   "cell_type": "markdown",
   "metadata": {},
   "source": [
    "Exploring 20 random rows."
   ]
  },
  {
   "cell_type": "code",
   "execution_count": 5,
   "metadata": {},
   "outputs": [
    {
     "data": {
      "text/html": [
       "<div>\n",
       "<style scoped>\n",
       "    .dataframe tbody tr th:only-of-type {\n",
       "        vertical-align: middle;\n",
       "    }\n",
       "\n",
       "    .dataframe tbody tr th {\n",
       "        vertical-align: top;\n",
       "    }\n",
       "\n",
       "    .dataframe thead th {\n",
       "        text-align: right;\n",
       "    }\n",
       "</style>\n",
       "<table border=\"1\" class=\"dataframe\">\n",
       "  <thead>\n",
       "    <tr style=\"text-align: right;\">\n",
       "      <th></th>\n",
       "      <th>dino_name</th>\n",
       "    </tr>\n",
       "  </thead>\n",
       "  <tbody>\n",
       "    <tr>\n",
       "      <th>163</th>\n",
       "      <td>Avisaurus</td>\n",
       "    </tr>\n",
       "    <tr>\n",
       "      <th>948</th>\n",
       "      <td>Nqwebasaurus</td>\n",
       "    </tr>\n",
       "    <tr>\n",
       "      <th>1477</th>\n",
       "      <td>Xinjiangtitan</td>\n",
       "    </tr>\n",
       "    <tr>\n",
       "      <th>400</th>\n",
       "      <td>Dongbeititan</td>\n",
       "    </tr>\n",
       "    <tr>\n",
       "      <th>1361</th>\n",
       "      <td>Thecodontosaurus</td>\n",
       "    </tr>\n",
       "    <tr>\n",
       "      <th>954</th>\n",
       "      <td>Ohmdenosaurus</td>\n",
       "    </tr>\n",
       "    <tr>\n",
       "      <th>824</th>\n",
       "      <td>Magnapaulia</td>\n",
       "    </tr>\n",
       "    <tr>\n",
       "      <th>527</th>\n",
       "      <td>Gargoyleosaurus</td>\n",
       "    </tr>\n",
       "    <tr>\n",
       "      <th>1381</th>\n",
       "      <td>Tochisaurus</td>\n",
       "    </tr>\n",
       "    <tr>\n",
       "      <th>749</th>\n",
       "      <td>Lapampasaurus</td>\n",
       "    </tr>\n",
       "    <tr>\n",
       "      <th>355</th>\n",
       "      <td>Dakosaurus</td>\n",
       "    </tr>\n",
       "    <tr>\n",
       "      <th>465</th>\n",
       "      <td>Epachthosaurus</td>\n",
       "    </tr>\n",
       "    <tr>\n",
       "      <th>95</th>\n",
       "      <td>Anserimimus</td>\n",
       "    </tr>\n",
       "    <tr>\n",
       "      <th>272</th>\n",
       "      <td>Ceratonykus</td>\n",
       "    </tr>\n",
       "    <tr>\n",
       "      <th>650</th>\n",
       "      <td>Iliosuchus</td>\n",
       "    </tr>\n",
       "    <tr>\n",
       "      <th>863</th>\n",
       "      <td>Mendozasaurus</td>\n",
       "    </tr>\n",
       "    <tr>\n",
       "      <th>196</th>\n",
       "      <td>Belodon</td>\n",
       "    </tr>\n",
       "    <tr>\n",
       "      <th>98</th>\n",
       "      <td>Antetonitrus</td>\n",
       "    </tr>\n",
       "    <tr>\n",
       "      <th>372</th>\n",
       "      <td>Daxiatitan</td>\n",
       "    </tr>\n",
       "    <tr>\n",
       "      <th>1208</th>\n",
       "      <td>Secernosaurus</td>\n",
       "    </tr>\n",
       "  </tbody>\n",
       "</table>\n",
       "</div>"
      ],
      "text/plain": [
       "             dino_name\n",
       "163          Avisaurus\n",
       "948       Nqwebasaurus\n",
       "1477     Xinjiangtitan\n",
       "400       Dongbeititan\n",
       "1361  Thecodontosaurus\n",
       "954      Ohmdenosaurus\n",
       "824        Magnapaulia\n",
       "527    Gargoyleosaurus\n",
       "1381       Tochisaurus\n",
       "749      Lapampasaurus\n",
       "355         Dakosaurus\n",
       "465     Epachthosaurus\n",
       "95         Anserimimus\n",
       "272        Ceratonykus\n",
       "650         Iliosuchus\n",
       "863      Mendozasaurus\n",
       "196            Belodon\n",
       "98        Antetonitrus\n",
       "372         Daxiatitan\n",
       "1208     Secernosaurus"
      ]
     },
     "execution_count": 5,
     "metadata": {},
     "output_type": "execute_result"
    }
   ],
   "source": [
    "data.sample(20)"
   ]
  },
  {
   "cell_type": "markdown",
   "metadata": {},
   "source": [
    "Is there punctuation (composed names, etc) ? "
   ]
  },
  {
   "cell_type": "code",
   "execution_count": 6,
   "metadata": {},
   "outputs": [
    {
     "name": "stdout",
     "output_type": "stream",
     "text": [
      "No non-alphabetical characters found in the dataset\n"
     ]
    }
   ],
   "source": [
    "def print_non_alphabetical_chars(word):\n",
    "    non_alphabetical = [char for char in word if char.lower() not in \"abcdefghijklmnopqrstuvwxyz\"]\n",
    "    if non_alphabetical:\n",
    "        print(\"Non-alphabetical characters in '{}': {}\".format(word, ''.join(non_alphabetical)))\n",
    "        return True\n",
    "    return False\n",
    "\n",
    "def print_non_alphabetical(data):\n",
    "    presence = False # flag to check if there are any non-alphabetical characters\n",
    "    for name in data[\"dino_name\"]:\n",
    "        if print_non_alphabetical_chars(name):\n",
    "            presence = True\n",
    "    if not presence:\n",
    "        print(\"No non-alphabetical characters found in the dataset\")\n",
    "\n",
    "print_non_alphabetical(data)"
   ]
  },
  {
   "cell_type": "markdown",
   "metadata": {},
   "source": [
    "Does the data contains recurrent names ? If so, we should get rid of them later in the pre-processing. "
   ]
  },
  {
   "cell_type": "code",
   "execution_count": 7,
   "metadata": {},
   "outputs": [
    {
     "name": "stdout",
     "output_type": "stream",
     "text": [
      "Number of duplicates in the dataset: 12\n"
     ]
    }
   ],
   "source": [
    "print(\"Number of duplicates in the dataset: {}\".format(data.duplicated().sum()))"
   ]
  },
  {
   "cell_type": "markdown",
   "metadata": {},
   "source": [
    "Let's explore words length."
   ]
  },
  {
   "cell_type": "code",
   "execution_count": 8,
   "metadata": {},
   "outputs": [],
   "source": [
    "# average length of dino names\n",
    "avg_word_length = data[\"dino_name\"].str.len().mean()"
   ]
  },
  {
   "cell_type": "code",
   "execution_count": 9,
   "metadata": {},
   "outputs": [],
   "source": [
    "# max length of dino names\n",
    "max_word_length = data[\"dino_name\"].str.len().max()"
   ]
  },
  {
   "cell_type": "code",
   "execution_count": 10,
   "metadata": {},
   "outputs": [],
   "source": [
    "# min length of dino names\n",
    "min_word_length = data[\"dino_name\"].str.len().min()"
   ]
  },
  {
   "cell_type": "code",
   "execution_count": 11,
   "metadata": {},
   "outputs": [],
   "source": [
    "# quantile of dino names\n",
    "quantile = data[\"dino_name\"].str.len().quantile([0.25, 0.5, 0.75])"
   ]
  },
  {
   "cell_type": "code",
   "execution_count": 12,
   "metadata": {},
   "outputs": [],
   "source": [
    "# number of unique dino names\n",
    "unique_dino_names = data[\"dino_name\"].nunique()"
   ]
  },
  {
   "cell_type": "code",
   "execution_count": 13,
   "metadata": {},
   "outputs": [
    {
     "name": "stdout",
     "output_type": "stream",
     "text": [
      "Average word length: 11.962239583333334\n",
      "Max word length: 26\n",
      "Min word length: 3\n",
      "Quantiles : {25% : 10.0, 50% : 12.0, 75% : 13.0}\n"
     ]
    }
   ],
   "source": [
    "print(f\"Average word length: {avg_word_length}\")\n",
    "print(f\"Max word length: {max_word_length}\")\n",
    "print(f\"Min word length: {min_word_length}\")\n",
    "print(f\"Quantiles : {{25% : {quantile[0.25]}, 50% : {quantile[0.5]}, 75% : {quantile[0.75]}}}\")"
   ]
  },
  {
   "cell_type": "markdown",
   "metadata": {},
   "source": [
    "These results are interesting. Dinosaur names are, in average, very long. So, if I want to generate a name, model has to take in account enough context from previous letters to generate remaining part.\n",
    "\n",
    "My first idea for the __n_gram model__ is to select `n_gram=3`. Because, I want to catch syllables in name. In my opinion, last syllables is enough context. It corresponds to the last 3 words before the word we want to predict.<br>\n",
    "In this context, a *syllable* is defined as a sequence of three characters, usually at least the middle one is a vowel.<br>\n",
    "It seems that using trigrams (3-grams) is a good choice since many words have lengths that are multiples of 3."
   ]
  },
  {
   "cell_type": "markdown",
   "metadata": {},
   "source": [
    "# Data Processing"
   ]
  },
  {
   "cell_type": "markdown",
   "metadata": {},
   "source": [
    "## Lower Case Names"
   ]
  },
  {
   "cell_type": "markdown",
   "metadata": {},
   "source": [
    "We should start with lower case all letters."
   ]
  },
  {
   "cell_type": "code",
   "execution_count": 14,
   "metadata": {},
   "outputs": [
    {
     "data": {
      "text/html": [
       "<div>\n",
       "<style scoped>\n",
       "    .dataframe tbody tr th:only-of-type {\n",
       "        vertical-align: middle;\n",
       "    }\n",
       "\n",
       "    .dataframe tbody tr th {\n",
       "        vertical-align: top;\n",
       "    }\n",
       "\n",
       "    .dataframe thead th {\n",
       "        text-align: right;\n",
       "    }\n",
       "</style>\n",
       "<table border=\"1\" class=\"dataframe\">\n",
       "  <thead>\n",
       "    <tr style=\"text-align: right;\">\n",
       "      <th></th>\n",
       "      <th>dino_name</th>\n",
       "    </tr>\n",
       "  </thead>\n",
       "  <tbody>\n",
       "    <tr>\n",
       "      <th>0</th>\n",
       "      <td>aachenosaurus</td>\n",
       "    </tr>\n",
       "    <tr>\n",
       "      <th>1</th>\n",
       "      <td>aardonyx</td>\n",
       "    </tr>\n",
       "  </tbody>\n",
       "</table>\n",
       "</div>"
      ],
      "text/plain": [
       "       dino_name\n",
       "0  aachenosaurus\n",
       "1       aardonyx"
      ]
     },
     "execution_count": 14,
     "metadata": {},
     "output_type": "execute_result"
    }
   ],
   "source": [
    "data[\"dino_name\"] = data[\"dino_name\"].str.lower()\n",
    "data.head(2)"
   ]
  },
  {
   "cell_type": "markdown",
   "metadata": {},
   "source": [
    "## Delete Recurrent values"
   ]
  },
  {
   "cell_type": "markdown",
   "metadata": {},
   "source": [
    "It is time to delete previous identified dublicates."
   ]
  },
  {
   "cell_type": "code",
   "execution_count": 15,
   "metadata": {},
   "outputs": [
    {
     "name": "stdout",
     "output_type": "stream",
     "text": [
      "Number of duplicates in dino names: 0\n"
     ]
    }
   ],
   "source": [
    "data = data.drop_duplicates(subset='dino_name')\n",
    "num_duplicates = data.duplicated().sum()\n",
    "print(f\"Number of duplicates in dino names: {num_duplicates}\")"
   ]
  },
  {
   "cell_type": "markdown",
   "metadata": {},
   "source": [
    "## Padding"
   ]
  },
  {
   "cell_type": "markdown",
   "metadata": {},
   "source": [
    "Let's add padding at the end of worlds to regularize names' length. We will try the `n-gram` model without padding.<br>\n",
    "Maybe by adding a padding, the model will be able to learn __how__ dino names finish usally (\"aurus\", \"tor\", etc)."
   ]
  },
  {
   "cell_type": "code",
   "execution_count": 16,
   "metadata": {},
   "outputs": [],
   "source": [
    "def add_padding(names: list[str], max_length: int) -> list[str]:\n",
    "    padded_names = []\n",
    "    for name in names :\n",
    "        if len(name) < max_length:\n",
    "            padded_names.append(name + \"1\" * (max_length - len(name)))\n",
    "        else:\n",
    "            padded_names.append(name[:max_length])\n",
    "    return padded_names"
   ]
  },
  {
   "cell_type": "code",
   "execution_count": 17,
   "metadata": {},
   "outputs": [],
   "source": [
    "data[\"paddded_dino_name\"] = add_padding(data[\"dino_name\"].values, max_word_length)"
   ]
  },
  {
   "cell_type": "code",
   "execution_count": 18,
   "metadata": {},
   "outputs": [
    {
     "data": {
      "text/html": [
       "<div>\n",
       "<style scoped>\n",
       "    .dataframe tbody tr th:only-of-type {\n",
       "        vertical-align: middle;\n",
       "    }\n",
       "\n",
       "    .dataframe tbody tr th {\n",
       "        vertical-align: top;\n",
       "    }\n",
       "\n",
       "    .dataframe thead th {\n",
       "        text-align: right;\n",
       "    }\n",
       "</style>\n",
       "<table border=\"1\" class=\"dataframe\">\n",
       "  <thead>\n",
       "    <tr style=\"text-align: right;\">\n",
       "      <th></th>\n",
       "      <th>dino_name</th>\n",
       "      <th>paddded_dino_name</th>\n",
       "    </tr>\n",
       "  </thead>\n",
       "  <tbody>\n",
       "    <tr>\n",
       "      <th>0</th>\n",
       "      <td>aachenosaurus</td>\n",
       "      <td>aachenosaurus1111111111111</td>\n",
       "    </tr>\n",
       "    <tr>\n",
       "      <th>1</th>\n",
       "      <td>aardonyx</td>\n",
       "      <td>aardonyx111111111111111111</td>\n",
       "    </tr>\n",
       "  </tbody>\n",
       "</table>\n",
       "</div>"
      ],
      "text/plain": [
       "       dino_name           paddded_dino_name\n",
       "0  aachenosaurus  aachenosaurus1111111111111\n",
       "1       aardonyx  aardonyx111111111111111111"
      ]
     },
     "execution_count": 18,
     "metadata": {},
     "output_type": "execute_result"
    }
   ],
   "source": [
    "data.head(2)"
   ]
  },
  {
   "cell_type": "markdown",
   "metadata": {},
   "source": [
    "## Start Token"
   ]
  },
  {
   "cell_type": "markdown",
   "metadata": {},
   "source": [
    "Let's add `0` at the start and the `1` chat added during pading will be considered as an `end` token. The `0` will be usefull at the begenning of the generation to generate a first letter. For `k-gram` model, we will adjust the names by adding `k-2`*`\"0\"` to help model learn prediction from first letter of a name.\n",
    "\n",
    "For the `1`, it will help us determine when the generation is finished. And it may help the model in *learning* how dino names end (\"tor\", \"saurus\",etc).. "
   ]
  },
  {
   "cell_type": "code",
   "execution_count": 19,
   "metadata": {},
   "outputs": [],
   "source": [
    "def add_start_token(names: list[str], n: int) -> list[str]:\n",
    "    \"\"\"Adds start '0' token at the beginning of each name.\"\"\"\n",
    "    return [\"0\" + name for name in names]"
   ]
  },
  {
   "cell_type": "code",
   "execution_count": 20,
   "metadata": {},
   "outputs": [
    {
     "data": {
      "text/html": [
       "<div>\n",
       "<style scoped>\n",
       "    .dataframe tbody tr th:only-of-type {\n",
       "        vertical-align: middle;\n",
       "    }\n",
       "\n",
       "    .dataframe tbody tr th {\n",
       "        vertical-align: top;\n",
       "    }\n",
       "\n",
       "    .dataframe thead th {\n",
       "        text-align: right;\n",
       "    }\n",
       "</style>\n",
       "<table border=\"1\" class=\"dataframe\">\n",
       "  <thead>\n",
       "    <tr style=\"text-align: right;\">\n",
       "      <th></th>\n",
       "      <th>dino_name</th>\n",
       "      <th>paddded_dino_name</th>\n",
       "    </tr>\n",
       "  </thead>\n",
       "  <tbody>\n",
       "    <tr>\n",
       "      <th>0</th>\n",
       "      <td>aachenosaurus</td>\n",
       "      <td>0aachenosaurus1111111111111</td>\n",
       "    </tr>\n",
       "    <tr>\n",
       "      <th>1</th>\n",
       "      <td>aardonyx</td>\n",
       "      <td>0aardonyx111111111111111111</td>\n",
       "    </tr>\n",
       "  </tbody>\n",
       "</table>\n",
       "</div>"
      ],
      "text/plain": [
       "       dino_name            paddded_dino_name\n",
       "0  aachenosaurus  0aachenosaurus1111111111111\n",
       "1       aardonyx  0aardonyx111111111111111111"
      ]
     },
     "execution_count": 20,
     "metadata": {},
     "output_type": "execute_result"
    }
   ],
   "source": [
    "data[\"paddded_dino_name\"] = add_start_token(data[\"paddded_dino_name\"].values, max_word_length)\n",
    "data.head(2)"
   ]
  },
  {
   "cell_type": "markdown",
   "metadata": {},
   "source": [
    "The next function will add more `0` at the begenning of names. This will only be usefull for **n-gram** model."
   ]
  },
  {
   "cell_type": "code",
   "execution_count": 21,
   "metadata": {},
   "outputs": [],
   "source": [
    "def add_start_token_ngram(names: list[str], ngram: int) -> list[str]:\n",
    "    \"\"\"Adds start (n-2) '0' at the beginning of each name.\"\"\"\n",
    "    # (n-2) because there is already one '0' (start token) then we add the other `0` need to make a start token\n",
    "    # n = 3, start toekn should be '00'. Because with \"00\", the model will predict the first character.\n",
    "    # n = 4, start token should be '000'  \n",
    "    if ngram < 2 :\n",
    "        return names\n",
    "    else : \n",
    "        return [\"0\" * (ngram-2) + name for name in names]"
   ]
  },
  {
   "cell_type": "code",
   "execution_count": 22,
   "metadata": {},
   "outputs": [
    {
     "data": {
      "text/plain": [
       "['00aachenosaurus1111111111111', '00aardonyx111111111111111111']"
      ]
     },
     "execution_count": 22,
     "metadata": {},
     "output_type": "execute_result"
    }
   ],
   "source": [
    "# Exemple for a 3-gram model\n",
    "names = add_start_token_ngram(names = data[\"paddded_dino_name\"].values, ngram = 3)\n",
    "names[:2]"
   ]
  },
  {
   "cell_type": "markdown",
   "metadata": {},
   "source": [
    "## Create Tokens"
   ]
  },
  {
   "cell_type": "markdown",
   "metadata": {},
   "source": [
    "There is a first function to generates a list of n-grams from a list of names at a **character** level.\n",
    "\n",
    "When building the vocabulary and tokens, we will add an `<UNK>` token that will be used for any unseen tokens or characters during generation. it is important because if the model produce a token which was not in the initial dataset, it won't be able to complete the generation."
   ]
  },
  {
   "cell_type": "code",
   "execution_count": 23,
   "metadata": {},
   "outputs": [],
   "source": [
    "def list_all_tokens(names: list[str], ngram: int) -> list[str]:\n",
    "    \"\"\"\n",
    "    Generates and returns all unique n-grams from the names.\n",
    "    \n",
    "    Parameters:\n",
    "        names (list[str]): List of names to extract tokens from.\n",
    "        ngram (int): The size of the n-gram (e.g., 3 for trigram).\n",
    "    \n",
    "    Returns:\n",
    "        list[str]: List of unique n-gram tokens, with <UNK> as the first token.\n",
    "    \"\"\"\n",
    "    context_length = ngram - 1\n",
    "    token_set = set()  # Use a set to store unique tokens\n",
    "    \n",
    "    for name in names:\n",
    "        for i in range(len(name) - context_length + 1):\n",
    "            token = name[i:i+context_length]\n",
    "            token_set.add(token)  # Add token to set, ensuring uniqueness\n",
    "    \n",
    "    # Convert set to list and add <UNK> at the beginning\n",
    "    return [\"<UNK>\"] + sorted(token_set)  # Sorting optional for consistency"
   ]
  },
  {
   "cell_type": "code",
   "execution_count": 24,
   "metadata": {},
   "outputs": [
    {
     "name": "stdout",
     "output_type": "stream",
     "text": [
      "['<UNK>', 'din', 'ino', 'nos', 'oso', 'our', 'rus', 'sou', 'uru']\n"
     ]
    }
   ],
   "source": [
    "print(list_all_tokens([\"dino\", \"dinosour\", \"dinosourus\"], 4))"
   ]
  },
  {
   "cell_type": "markdown",
   "metadata": {},
   "source": [
    "For the remaing of the project, we will work with the padded data."
   ]
  },
  {
   "cell_type": "code",
   "execution_count": 25,
   "metadata": {},
   "outputs": [
    {
     "data": {
      "text/plain": [
       "0    0aachenosaurus1111111111111\n",
       "1    0aardonyx111111111111111111\n",
       "Name: paddded_dino_name, dtype: object"
      ]
     },
     "execution_count": 25,
     "metadata": {},
     "output_type": "execute_result"
    }
   ],
   "source": [
    "DATA = data[\"paddded_dino_name\"]\n",
    "DATA.head(2)"
   ]
  },
  {
   "cell_type": "markdown",
   "metadata": {},
   "source": [
    "# 1) N-gram model"
   ]
  },
  {
   "cell_type": "markdown",
   "metadata": {},
   "source": [
    "There is some usefull functions usefull for this model __only__. Each models needs his own tool functions. Some times the difference is only a line or a word."
   ]
  },
  {
   "cell_type": "markdown",
   "metadata": {},
   "source": [
    "## Tools"
   ]
  },
  {
   "cell_type": "markdown",
   "metadata": {},
   "source": [
    "After dertermining tokens of language, it is also necessary to determine our vocabulary. In our case, it is all the characters."
   ]
  },
  {
   "cell_type": "code",
   "execution_count": 26,
   "metadata": {},
   "outputs": [],
   "source": [
    "def build_vocabulary(names: list[str]) -> list[str]:\n",
    "    \"\"\"\n",
    "    Builds and returns a list of all unique characters (vocabulary) from the names.\n",
    "    \n",
    "    Parameters:\n",
    "        names (list[str]): List of names to extract characters from.\n",
    "    \n",
    "    Returns:\n",
    "        list[str]: List of unique characters with <UNK> as the first item.\n",
    "    \"\"\"\n",
    "    # Use a set for unique characters\n",
    "    unique_chars = set()\n",
    "    \n",
    "    for name in names:\n",
    "        unique_chars.update(name)  # Add all characters in the name to the set\n",
    "    \n",
    "    # Convert set to a sorted list and add <UNK> at the beginning\n",
    "    return [\"<UNK>\"] + sorted(unique_chars)"
   ]
  },
  {
   "cell_type": "markdown",
   "metadata": {},
   "source": [
    "Now, let's compute probability of a letter appearing after a token."
   ]
  },
  {
   "cell_type": "code",
   "execution_count": 27,
   "metadata": {},
   "outputs": [],
   "source": [
    "def print_probabilities(probabilities: np.ndarray, tokens: list[str], vocab: list[str]) -> None:\n",
    "    \"\"\"Prints the probabilities of generating each letter for each token.\"\"\"\n",
    "    for i, token in enumerate(tokens):\n",
    "        print(f\"Token: {token}\")\n",
    "        for j, letter in enumerate(vocab):\n",
    "            prob = probabilities[i][j]\n",
    "            if prob > 0:\n",
    "                print(f\"    {letter}: {prob:.3f}\")"
   ]
  },
  {
   "cell_type": "code",
   "execution_count": 28,
   "metadata": {},
   "outputs": [],
   "source": [
    "def compute_probabilities(names: list[str], tokens: list[str], vocab: list[str], context: int) -> np.ndarray:\n",
    "    \"\"\"Computes the conditional probabilities of each token generating a letter from the vocabulary.\"\"\"\n",
    "    probabilities_array = np.zeros((len(tokens), len(vocab)))\n",
    "\n",
    "    # Count occurrences of letters following each token\n",
    "    for name in names:\n",
    "        for i in range(len(name) - context):\n",
    "            token = name[i:i+context]\n",
    "            next_letter = name[i+context]  # The letter after the token\n",
    "            if next_letter in vocab:\n",
    "                token_index = tokens.index(token) if token in tokens else tokens.index(\"<UNK>\")\n",
    "                letter_index = vocab.index(next_letter)\n",
    "                probabilities_array[token_index][letter_index] += 1\n",
    "            else:\n",
    "                print(f\"Letter {next_letter} not in vocabulary\")\n",
    "                probabilities_array[tokens.index(\"<UNK>\")][vocab.index(\"<UNK>\")] += 1\n",
    "\n",
    "    # Normalize the probabilities by dividing by row sums\n",
    "    row_sums = probabilities_array.sum(axis=1, keepdims=True)\n",
    "    probabilities_array = np.divide(probabilities_array, row_sums, where=row_sums != 0, out=probabilities_array)\n",
    "\n",
    "    # print_probabilities(probabilities_array, tokens, vocab)\n",
    "    \n",
    "    return probabilities_array"
   ]
  },
  {
   "cell_type": "markdown",
   "metadata": {},
   "source": [
    "To add some randomness and not generating alwas the same name, we will not retrieve the most predicted letter but one of the first k letters."
   ]
  },
  {
   "cell_type": "code",
   "execution_count": 29,
   "metadata": {},
   "outputs": [],
   "source": [
    "def choose_top_k(top_k: int, probabilities: np.array, token_index: int, vocab: list[str], verbose: bool = False) -> str:\n",
    "    \"\"\"\n",
    "    Chooses one of the top k letters based on probabilities. Only selects letters with probability > 0.\n",
    "    \n",
    "    Parameters:\n",
    "        top_k (int): Number of top probabilities to consider.\n",
    "        probabilities (np.array): 2D array of conditional probabilities (tokens x vocab).\n",
    "        token_index (int): Index of the token in the probabilities array.\n",
    "        vocab (list[str]): List of vocabulary characters.\n",
    "        verbose (bool): If True, outputs detailed information.\n",
    "    \n",
    "    Returns:\n",
    "        str: Chosen letter from the top k predictions.\n",
    "    \"\"\"\n",
    "    \n",
    "    # Sort the probabilities for the token and get indices in descending order\n",
    "    sorted_indices = np.argsort(probabilities[token_index])[::-1]\n",
    "    \n",
    "    # Filter indices with probability > 0\n",
    "    valid_indices = [idx for idx in sorted_indices if probabilities[token_index][idx] > 0]\n",
    "    \n",
    "    # Limit top_k to available valid options\n",
    "    top_k = min(top_k, len(valid_indices))\n",
    "    \n",
    "    if top_k == 0:\n",
    "        # No valid letters with probability > 0, defaulting to <UNK>\n",
    "        if verbose:\n",
    "            print(\"No valid letters with probability > 0. Falling back to <UNK>.\")\n",
    "        return \"<UNK>\"\n",
    "\n",
    "    # Take the top_k valid indices\n",
    "    best_k_indices = valid_indices[:top_k]\n",
    "    \n",
    "    # Display top-k letters if verbose is True\n",
    "    if verbose:\n",
    "        print(f\"\\nTop {top_k} predicted letters for token index {token_index}:\")\n",
    "        for idx in best_k_indices:\n",
    "            print(f\"Letter: {vocab[idx]}, Probability: {probabilities[token_index][idx]:.4f}\")\n",
    "\n",
    "    # Choose one of the top-k indices randomly (or the top one if k=1)\n",
    "    chosen_index = np.random.choice(best_k_indices) if top_k > 1 else best_k_indices[0]\n",
    "    \n",
    "    chosen_letter = vocab[chosen_index]\n",
    "    if verbose:\n",
    "        print(f\"Chosen letter: {chosen_letter}\")\n",
    "    \n",
    "    return chosen_letter"
   ]
  },
  {
   "cell_type": "markdown",
   "metadata": {},
   "source": [
    "## Model"
   ]
  },
  {
   "cell_type": "markdown",
   "metadata": {},
   "source": [
    "Finally, we have all the tools to create the model."
   ]
  },
  {
   "cell_type": "code",
   "execution_count": 30,
   "metadata": {},
   "outputs": [],
   "source": [
    "def ngram_generate_name(tokens: list[str], vocab: list[str], probabilities: np.array, ngram: int, \n",
    "                        max_length: int = 10, top_k: int = 5, verbose: bool = False) -> str:\n",
    "    \"\"\"\n",
    "    Generates a new name using an n-gram model with <UNK> token handling.\n",
    "    \n",
    "    Parameters:\n",
    "        tokens (list[str]): List of possible n-gram tokens.\n",
    "        vocab (list[str]): List of letters in the vocabulary.\n",
    "        probabilities (np.array): Array of conditional probabilities for each token generating a letter.\n",
    "        ngram (int): The size of the n-gram model (e.g., 3 for trigram).\n",
    "        max_length (int): Maximum number of letters in the generated name.\n",
    "        top_k (int): Number of top probable letters to consider at each step.\n",
    "        verbose (bool): If True, prints debugging information.\n",
    "    \n",
    "    Returns:\n",
    "        str: The generated name.\n",
    "    \"\"\"\n",
    "    \n",
    "    generated_name = \"\"  # Initialize with an empty string\n",
    "    context_length = ngram - 1  # Number of letters to use as context\n",
    "    current_token = \"0\" * context_length  # Start token is represented by repeated \"0\"\n",
    "    \n",
    "    if verbose:\n",
    "        print(f\"\\nStarting name generation:\")\n",
    "    \n",
    "    for _ in range(max_length):\n",
    "        # Get the index for the current token, falling back to <UNK> if not found\n",
    "        token_index = tokens.index(current_token) if current_token in tokens else tokens.index(\"<UNK>\")\n",
    "        \n",
    "        if verbose:\n",
    "            print(f\"\\nCurrent token: {current_token}\")\n",
    "            print(f\"Name under construction: {generated_name}\")\n",
    "        \n",
    "        # Use all possible letters at the start, otherwise limit to top_k\n",
    "        # -3 to exclude <UNK>, 0 and 1 tokens\n",
    "        if current_token == \"0\" * context_length:\n",
    "            next_letter = choose_top_k(top_k=len(vocab) - 3, probabilities=probabilities, token_index=token_index, vocab=vocab, verbose=verbose)\n",
    "        else:\n",
    "            next_letter = choose_top_k(top_k=top_k, probabilities=probabilities, token_index=token_index, vocab=vocab, verbose=verbose)\n",
    "        \n",
    "        if next_letter == \"1\":  # End token reached\n",
    "            if verbose:\n",
    "                print(f\"End of name reached with letter: 1\\n\")\n",
    "            break\n",
    "        \n",
    "        # Append the selected letter to the generated name\n",
    "        generated_name += next_letter\n",
    "        # Update the token by shifting and adding the new letter\n",
    "        current_token = (current_token + next_letter)[-context_length:]\n",
    "    \n",
    "    if verbose:\n",
    "        print(f\"Final generated name: {generated_name}\\n\")\n",
    "    \n",
    "    return generated_name"
   ]
  },
  {
   "cell_type": "code",
   "execution_count": 31,
   "metadata": {},
   "outputs": [],
   "source": [
    "def ngram_model(names: list[str], ngram: int, num_predictions: int, max_length: int, top_k: int, verbose: bool = False) -> list[str]:\n",
    "    \"\"\"\n",
    "    Trains an n-gram model and generates new names.\n",
    "    \n",
    "    Parameters:\n",
    "        names (list[str]): List of input names to train the model.\n",
    "        ngram (int): The size of the n-gram model (e.g., 3 for trigram).\n",
    "        num_predictions (int): Number of names to generate.\n",
    "        max_length (int): Maximum length of each generated name.\n",
    "        top_k (int): Number of top probable letters to consider at each generation step.\n",
    "        verbose (bool): If True, outputs detailed information for debugging.\n",
    "    \n",
    "    Returns:\n",
    "        list[str]: A list of generated names.\n",
    "    \"\"\"\n",
    "    context = ngram - 1  # Number of letters in the context (n-gram - 1)\n",
    "    \n",
    "    # Preprocess names by adding the right number of start tokens\n",
    "    names_with_tokens = add_start_token_ngram(names=names, ngram=ngram)\n",
    "    \n",
    "    # Build model components\n",
    "    tokens = list_all_tokens(names=names_with_tokens, ngram=ngram)\n",
    "    vocab = build_vocabulary(names=names_with_tokens)\n",
    "    probabilities = compute_probabilities(names=names_with_tokens, tokens=tokens, vocab=vocab, context=context)\n",
    "    \n",
    "    # Generate new names based on the n-gram model\n",
    "    generated_names = []\n",
    "    for _ in range(num_predictions):\n",
    "        name = ngram_generate_name(tokens=tokens, vocab=vocab, probabilities=probabilities, ngram=ngram, max_length=max_length, top_k=top_k, verbose=verbose)\n",
    "        generated_names.append(name)\n",
    "    \n",
    "    return generated_names"
   ]
  },
  {
   "cell_type": "markdown",
   "metadata": {},
   "source": [
    "To simplify the process, there is a last function to train and print generated names in one command."
   ]
  },
  {
   "cell_type": "code",
   "execution_count": 32,
   "metadata": {},
   "outputs": [],
   "source": [
    "def train_and_generate_names(names: list[str], ngram: int, num_predictions: int, max_length: int, top_k: int, verbose: bool = False) -> list[str]:\n",
    "    \"\"\"\n",
    "    Trains an n-gram model and prints generated names, including model parameters and \n",
    "    whether each generated name exists in the original data.\n",
    "    \n",
    "    Parameters:\n",
    "        names (list[str]): List of input names to train the model.\n",
    "        ngram (int): The size of the n-gram model (e.g., 3 for trigram).\n",
    "        num_predictions (int): Number of names to generate.\n",
    "        max_length (int): Maximum length of each generated name.\n",
    "        top_k (int): Number of top probable letters to consider at each generation step.\n",
    "        verbose (bool): If True, outputs detailed information for debugging.\n",
    "    \n",
    "    Returns:\n",
    "        list[str]: List of generated names.\n",
    "    \"\"\"\n",
    "    # Train the n-gram model and generate names\n",
    "    generated_names = ngram_model(\n",
    "        names=names,\n",
    "        ngram=ngram,\n",
    "        num_predictions=num_predictions,\n",
    "        max_length=max_length,\n",
    "        top_k=top_k,\n",
    "        verbose=verbose\n",
    "    )\n",
    "    \n",
    "    # Print the generated names with model parameters\n",
    "    print(f\"\\nn-gram = {ngram}, top_k = {top_k}:\")\n",
    "    \n",
    "    # Check if each generated name exists in the original data\n",
    "    print(\"-\" * 40)\n",
    "    print(\"Generated Name | In Original Data\")\n",
    "    print(\"-\" * 40)\n",
    "    \n",
    "    for name in generated_names:\n",
    "        in_original = \"True\" if name in names else \"False\"\n",
    "        print(f\"{name:<15} | {in_original}\")\n",
    "    print(\"*\" * 40)\n",
    "    \n",
    "    return generated_names"
   ]
  },
  {
   "cell_type": "markdown",
   "metadata": {},
   "source": [
    "## Generate Names with n-gramm"
   ]
  },
  {
   "cell_type": "code",
   "execution_count": 33,
   "metadata": {},
   "outputs": [
    {
     "name": "stdout",
     "output_type": "stream",
     "text": [
      "\n",
      "Starting name generation:\n",
      "\n",
      "Current token: 000\n",
      "Name under construction: \n",
      "\n",
      "Top 26 predicted letters for token index 1:\n",
      "Letter: a, Probability: 0.1089\n",
      "Letter: s, Probability: 0.0945\n",
      "Letter: p, Probability: 0.0794\n",
      "Letter: c, Probability: 0.0709\n",
      "Letter: t, Probability: 0.0643\n",
      "Letter: m, Probability: 0.0597\n",
      "Letter: l, Probability: 0.0538\n",
      "Letter: d, Probability: 0.0531\n",
      "Letter: b, Probability: 0.0492\n",
      "Letter: e, Probability: 0.0427\n",
      "Letter: h, Probability: 0.0420\n",
      "Letter: g, Probability: 0.0394\n",
      "Letter: n, Probability: 0.0315\n",
      "Letter: o, Probability: 0.0269\n",
      "Letter: r, Probability: 0.0262\n",
      "Letter: k, Probability: 0.0256\n",
      "Letter: j, Probability: 0.0171\n",
      "Letter: z, Probability: 0.0171\n",
      "Letter: y, Probability: 0.0157\n",
      "Letter: i, Probability: 0.0157\n",
      "Letter: f, Probability: 0.0138\n",
      "Letter: v, Probability: 0.0131\n",
      "Letter: u, Probability: 0.0112\n",
      "Letter: w, Probability: 0.0112\n",
      "Letter: x, Probability: 0.0105\n",
      "Letter: q, Probability: 0.0066\n",
      "Chosen letter: m\n",
      "\n",
      "Current token: 00m\n",
      "Name under construction: m\n",
      "\n",
      "Top 1 predicted letters for token index 14:\n",
      "Letter: a, Probability: 0.4286\n",
      "Chosen letter: a\n",
      "\n",
      "Current token: 0ma\n",
      "Name under construction: ma\n",
      "\n",
      "Top 1 predicted letters for token index 135:\n",
      "Letter: c, Probability: 0.2051\n",
      "Chosen letter: c\n",
      "\n",
      "Current token: mac\n",
      "Name under construction: mac\n",
      "\n",
      "Top 1 predicted letters for token index 1522:\n",
      "Letter: r, Probability: 0.5000\n",
      "Chosen letter: r\n",
      "\n",
      "Current token: acr\n",
      "Name under construction: macr\n",
      "\n",
      "Top 1 predicted letters for token index 267:\n",
      "Letter: o, Probability: 0.7778\n",
      "Chosen letter: o\n",
      "\n",
      "Current token: cro\n",
      "Name under construction: macro\n",
      "\n",
      "Top 1 predicted letters for token index 624:\n",
      "Letter: c, Probability: 0.2632\n",
      "Chosen letter: c\n",
      "\n",
      "Current token: roc\n",
      "Name under construction: macroc\n",
      "\n",
      "Top 1 predicted letters for token index 2144:\n",
      "Letter: e, Probability: 0.4375\n",
      "Chosen letter: e\n",
      "\n",
      "Current token: oce\n",
      "Name under construction: macroce\n",
      "\n",
      "Top 1 predicted letters for token index 1797:\n",
      "Letter: r, Probability: 0.7391\n",
      "Chosen letter: r\n",
      "\n",
      "Current token: cer\n",
      "Name under construction: macrocer\n",
      "\n",
      "Top 1 predicted letters for token index 577:\n",
      "Letter: a, Probability: 0.9250\n",
      "Chosen letter: a\n",
      "\n",
      "Current token: era\n",
      "Name under construction: macrocera\n",
      "\n",
      "Top 1 predicted letters for token index 841:\n",
      "Letter: t, Probability: 0.8916\n",
      "Chosen letter: t\n",
      "Final generated name: macrocerat\n",
      "\n",
      "\n",
      "Starting name generation:\n",
      "\n",
      "Current token: 000\n",
      "Name under construction: \n",
      "\n",
      "Top 26 predicted letters for token index 1:\n",
      "Letter: a, Probability: 0.1089\n",
      "Letter: s, Probability: 0.0945\n",
      "Letter: p, Probability: 0.0794\n",
      "Letter: c, Probability: 0.0709\n",
      "Letter: t, Probability: 0.0643\n",
      "Letter: m, Probability: 0.0597\n",
      "Letter: l, Probability: 0.0538\n",
      "Letter: d, Probability: 0.0531\n",
      "Letter: b, Probability: 0.0492\n",
      "Letter: e, Probability: 0.0427\n",
      "Letter: h, Probability: 0.0420\n",
      "Letter: g, Probability: 0.0394\n",
      "Letter: n, Probability: 0.0315\n",
      "Letter: o, Probability: 0.0269\n",
      "Letter: r, Probability: 0.0262\n",
      "Letter: k, Probability: 0.0256\n",
      "Letter: j, Probability: 0.0171\n",
      "Letter: z, Probability: 0.0171\n",
      "Letter: y, Probability: 0.0157\n",
      "Letter: i, Probability: 0.0157\n",
      "Letter: f, Probability: 0.0138\n",
      "Letter: v, Probability: 0.0131\n",
      "Letter: u, Probability: 0.0112\n",
      "Letter: w, Probability: 0.0112\n",
      "Letter: x, Probability: 0.0105\n",
      "Letter: q, Probability: 0.0066\n",
      "Chosen letter: i\n",
      "\n",
      "Current token: 00i\n",
      "Name under construction: i\n",
      "\n",
      "Top 1 predicted letters for token index 10:\n",
      "Letter: s, Probability: 0.2917\n",
      "Chosen letter: s\n",
      "\n",
      "Current token: 0is\n",
      "Name under construction: is\n",
      "\n",
      "Top 1 predicted letters for token index 113:\n",
      "Letter: c, Probability: 0.4286\n",
      "Chosen letter: c\n",
      "\n",
      "Current token: isc\n",
      "Name under construction: isc\n",
      "\n",
      "Top 1 predicted letters for token index 1260:\n",
      "Letter: u, Probability: 0.5000\n",
      "Chosen letter: u\n",
      "\n",
      "Current token: scu\n",
      "Name under construction: iscu\n",
      "\n",
      "Top 1 predicted letters for token index 2230:\n",
      "Letter: s, Probability: 0.8000\n",
      "Chosen letter: s\n",
      "\n",
      "Current token: cus\n",
      "Name under construction: iscus\n",
      "\n",
      "Top 1 predicted letters for token index 635:\n",
      "Letter: 1, Probability: 0.8889\n",
      "Chosen letter: 1\n",
      "End of name reached with letter: 1\n",
      "\n",
      "Final generated name: iscus\n",
      "\n",
      "\n",
      "Starting name generation:\n",
      "\n",
      "Current token: 000\n",
      "Name under construction: \n",
      "\n",
      "Top 26 predicted letters for token index 1:\n",
      "Letter: a, Probability: 0.1089\n",
      "Letter: s, Probability: 0.0945\n",
      "Letter: p, Probability: 0.0794\n",
      "Letter: c, Probability: 0.0709\n",
      "Letter: t, Probability: 0.0643\n",
      "Letter: m, Probability: 0.0597\n",
      "Letter: l, Probability: 0.0538\n",
      "Letter: d, Probability: 0.0531\n",
      "Letter: b, Probability: 0.0492\n",
      "Letter: e, Probability: 0.0427\n",
      "Letter: h, Probability: 0.0420\n",
      "Letter: g, Probability: 0.0394\n",
      "Letter: n, Probability: 0.0315\n",
      "Letter: o, Probability: 0.0269\n",
      "Letter: r, Probability: 0.0262\n",
      "Letter: k, Probability: 0.0256\n",
      "Letter: j, Probability: 0.0171\n",
      "Letter: z, Probability: 0.0171\n",
      "Letter: y, Probability: 0.0157\n",
      "Letter: i, Probability: 0.0157\n",
      "Letter: f, Probability: 0.0138\n",
      "Letter: v, Probability: 0.0131\n",
      "Letter: u, Probability: 0.0112\n",
      "Letter: w, Probability: 0.0112\n",
      "Letter: x, Probability: 0.0105\n",
      "Letter: q, Probability: 0.0066\n",
      "Chosen letter: a\n",
      "\n",
      "Current token: 00a\n",
      "Name under construction: a\n",
      "\n",
      "Top 1 predicted letters for token index 2:\n",
      "Letter: n, Probability: 0.1566\n",
      "Chosen letter: n\n",
      "\n",
      "Current token: 0an\n",
      "Name under construction: an\n",
      "\n",
      "Top 1 predicted letters for token index 40:\n",
      "Letter: t, Probability: 0.1923\n",
      "Chosen letter: t\n",
      "\n",
      "Current token: ant\n",
      "Name under construction: ant\n",
      "\n",
      "Top 1 predicted letters for token index 379:\n",
      "Letter: h, Probability: 0.2941\n",
      "Chosen letter: h\n",
      "\n",
      "Current token: nth\n",
      "Name under construction: anth\n",
      "\n",
      "Top 1 predicted letters for token index 1758:\n",
      "Letter: o, Probability: 0.7000\n",
      "Chosen letter: o\n",
      "\n",
      "Current token: tho\n",
      "Name under construction: antho\n",
      "\n",
      "Top 1 predicted letters for token index 2381:\n",
      "Letter: s, Probability: 0.2195\n",
      "Chosen letter: s\n",
      "\n",
      "Current token: hos\n",
      "Name under construction: anthos\n",
      "\n",
      "Top 1 predicted letters for token index 1102:\n",
      "Letter: a, Probability: 0.8077\n",
      "Chosen letter: a\n",
      "\n",
      "Current token: osa\n",
      "Name under construction: anthosa\n",
      "\n",
      "Top 1 predicted letters for token index 1906:\n",
      "Letter: u, Probability: 0.9954\n",
      "Chosen letter: u\n",
      "\n",
      "Current token: sau\n",
      "Name under construction: anthosau\n",
      "\n",
      "Top 1 predicted letters for token index 2219:\n",
      "Letter: r, Probability: 1.0000\n",
      "Chosen letter: r\n",
      "\n",
      "Current token: aur\n",
      "Name under construction: anthosaur\n",
      "\n",
      "Top 1 predicted letters for token index 464:\n",
      "Letter: u, Probability: 0.9431\n",
      "Chosen letter: u\n",
      "Final generated name: anthosauru\n",
      "\n",
      "\n",
      "Starting name generation:\n",
      "\n",
      "Current token: 000\n",
      "Name under construction: \n",
      "\n",
      "Top 26 predicted letters for token index 1:\n",
      "Letter: a, Probability: 0.1089\n",
      "Letter: s, Probability: 0.0945\n",
      "Letter: p, Probability: 0.0794\n",
      "Letter: c, Probability: 0.0709\n",
      "Letter: t, Probability: 0.0643\n",
      "Letter: m, Probability: 0.0597\n",
      "Letter: l, Probability: 0.0538\n",
      "Letter: d, Probability: 0.0531\n",
      "Letter: b, Probability: 0.0492\n",
      "Letter: e, Probability: 0.0427\n",
      "Letter: h, Probability: 0.0420\n",
      "Letter: g, Probability: 0.0394\n",
      "Letter: n, Probability: 0.0315\n",
      "Letter: o, Probability: 0.0269\n",
      "Letter: r, Probability: 0.0262\n",
      "Letter: k, Probability: 0.0256\n",
      "Letter: j, Probability: 0.0171\n",
      "Letter: z, Probability: 0.0171\n",
      "Letter: y, Probability: 0.0157\n",
      "Letter: i, Probability: 0.0157\n",
      "Letter: f, Probability: 0.0138\n",
      "Letter: v, Probability: 0.0131\n",
      "Letter: u, Probability: 0.0112\n",
      "Letter: w, Probability: 0.0112\n",
      "Letter: x, Probability: 0.0105\n",
      "Letter: q, Probability: 0.0066\n",
      "Chosen letter: l\n",
      "\n",
      "Current token: 00l\n",
      "Name under construction: l\n",
      "\n",
      "Top 1 predicted letters for token index 13:\n",
      "Letter: a, Probability: 0.2683\n",
      "Chosen letter: a\n",
      "\n",
      "Current token: 0la\n",
      "Name under construction: la\n",
      "\n",
      "Top 1 predicted letters for token index 129:\n",
      "Letter: n, Probability: 0.1818\n",
      "Chosen letter: n\n",
      "\n",
      "Current token: lan\n",
      "Name under construction: lan\n",
      "\n",
      "Top 1 predicted letters for token index 1398:\n",
      "Letter: c, Probability: 0.2143\n",
      "Chosen letter: c\n",
      "\n",
      "Current token: anc\n",
      "Name under construction: lanc\n",
      "\n",
      "Top 1 predicted letters for token index 363:\n",
      "Letter: h, Probability: 0.6250\n",
      "Chosen letter: h\n",
      "\n",
      "Current token: nch\n",
      "Name under construction: lanch\n",
      "\n",
      "Top 1 predicted letters for token index 1626:\n",
      "Letter: i, Probability: 0.4118\n",
      "Chosen letter: i\n",
      "\n",
      "Current token: chi\n",
      "Name under construction: lanchi\n",
      "\n",
      "Top 1 predicted letters for token index 582:\n",
      "Letter: s, Probability: 0.3077\n",
      "Chosen letter: s\n",
      "\n",
      "Current token: his\n",
      "Name under construction: lanchis\n",
      "\n",
      "Top 1 predicted letters for token index 1076:\n",
      "Letter: a, Probability: 0.7895\n",
      "Chosen letter: a\n",
      "\n",
      "Current token: isa\n",
      "Name under construction: lanchisa\n",
      "\n",
      "Top 1 predicted letters for token index 1258:\n",
      "Letter: u, Probability: 0.9474\n",
      "Chosen letter: u\n",
      "\n",
      "Current token: sau\n",
      "Name under construction: lanchisau\n",
      "\n",
      "Top 1 predicted letters for token index 2219:\n",
      "Letter: r, Probability: 1.0000\n",
      "Chosen letter: r\n",
      "Final generated name: lanchisaur\n",
      "\n",
      "\n",
      "Starting name generation:\n",
      "\n",
      "Current token: 000\n",
      "Name under construction: \n",
      "\n",
      "Top 26 predicted letters for token index 1:\n",
      "Letter: a, Probability: 0.1089\n",
      "Letter: s, Probability: 0.0945\n",
      "Letter: p, Probability: 0.0794\n",
      "Letter: c, Probability: 0.0709\n",
      "Letter: t, Probability: 0.0643\n",
      "Letter: m, Probability: 0.0597\n",
      "Letter: l, Probability: 0.0538\n",
      "Letter: d, Probability: 0.0531\n",
      "Letter: b, Probability: 0.0492\n",
      "Letter: e, Probability: 0.0427\n",
      "Letter: h, Probability: 0.0420\n",
      "Letter: g, Probability: 0.0394\n",
      "Letter: n, Probability: 0.0315\n",
      "Letter: o, Probability: 0.0269\n",
      "Letter: r, Probability: 0.0262\n",
      "Letter: k, Probability: 0.0256\n",
      "Letter: j, Probability: 0.0171\n",
      "Letter: z, Probability: 0.0171\n",
      "Letter: y, Probability: 0.0157\n",
      "Letter: i, Probability: 0.0157\n",
      "Letter: f, Probability: 0.0138\n",
      "Letter: v, Probability: 0.0131\n",
      "Letter: u, Probability: 0.0112\n",
      "Letter: w, Probability: 0.0112\n",
      "Letter: x, Probability: 0.0105\n",
      "Letter: q, Probability: 0.0066\n",
      "Chosen letter: g\n",
      "\n",
      "Current token: 00g\n",
      "Name under construction: g\n",
      "\n",
      "Top 1 predicted letters for token index 8:\n",
      "Letter: a, Probability: 0.2667\n",
      "Chosen letter: a\n",
      "\n",
      "Current token: 0ga\n",
      "Name under construction: ga\n",
      "\n",
      "Top 1 predicted letters for token index 92:\n",
      "Letter: l, Probability: 0.3750\n",
      "Chosen letter: l\n",
      "\n",
      "Current token: gal\n",
      "Name under construction: gal\n",
      "\n",
      "Top 1 predicted letters for token index 940:\n",
      "Letter: v, Probability: 0.2500\n",
      "Chosen letter: v\n",
      "\n",
      "Current token: alv\n",
      "Name under construction: galv\n",
      "\n",
      "Top 1 predicted letters for token index 348:\n",
      "Letter: e, Probability: 0.6667\n",
      "Chosen letter: e\n",
      "\n",
      "Current token: lve\n",
      "Name under construction: galve\n",
      "\n",
      "Top 1 predicted letters for token index 1508:\n",
      "Letter: s, Probability: 0.3333\n",
      "Chosen letter: s\n",
      "\n",
      "Current token: ves\n",
      "Name under construction: galves\n",
      "\n",
      "Top 1 predicted letters for token index 2612:\n",
      "Letter: a, Probability: 1.0000\n",
      "Chosen letter: a\n",
      "\n",
      "Current token: esa\n",
      "Name under construction: galvesa\n",
      "\n",
      "Top 1 predicted letters for token index 861:\n",
      "Letter: u, Probability: 1.0000\n",
      "Chosen letter: u\n",
      "\n",
      "Current token: sau\n",
      "Name under construction: galvesau\n",
      "\n",
      "Top 1 predicted letters for token index 2219:\n",
      "Letter: r, Probability: 1.0000\n",
      "Chosen letter: r\n",
      "\n",
      "Current token: aur\n",
      "Name under construction: galvesaur\n",
      "\n",
      "Top 1 predicted letters for token index 464:\n",
      "Letter: u, Probability: 0.9431\n",
      "Chosen letter: u\n",
      "Final generated name: galvesauru\n",
      "\n",
      "\n",
      "n-gram = 4, top_k = 1:\n",
      "----------------------------------------\n",
      "Generated Name | In Original Data\n",
      "----------------------------------------\n",
      "macrocerat      | False\n",
      "iscus           | False\n",
      "anthosauru      | False\n",
      "lanchisaur      | False\n",
      "galvesauru      | False\n",
      "****************************************\n"
     ]
    },
    {
     "data": {
      "text/plain": [
       "['macrocerat', 'iscus', 'anthosauru', 'lanchisaur', 'galvesauru']"
      ]
     },
     "execution_count": 33,
     "metadata": {},
     "output_type": "execute_result"
    }
   ],
   "source": [
    "# Ngram Model (n = 4), top_k = 1\n",
    "train_and_generate_names(names=DATA, ngram=4, num_predictions=5, max_length=10, top_k=1, verbose=True)"
   ]
  },
  {
   "cell_type": "markdown",
   "metadata": {},
   "source": [
    "There is multiple results for different models. **Scroll** (enable the option) to display all models' generated names if it is too long.  "
   ]
  },
  {
   "cell_type": "code",
   "execution_count": 34,
   "metadata": {},
   "outputs": [
    {
     "name": "stdout",
     "output_type": "stream",
     "text": [
      "\n",
      "n-gram = 4, top_k = 1:\n",
      "----------------------------------------\n",
      "Generated Name | In Original Data\n",
      "----------------------------------------\n",
      "iscus           | False\n",
      "neosaurus       | False\n",
      "raptor          | False\n",
      "fukuivria       | False\n",
      "macrocerat      | False\n",
      "****************************************\n",
      "\n",
      "n-gram = 4, top_k = 2:\n",
      "----------------------------------------\n",
      "Generated Name | In Original Data\n",
      "----------------------------------------\n",
      "indasasaur      | False\n",
      "neme            | False\n",
      "paloninosp      | False\n",
      "oshansauru      | False\n",
      "barischusa      | False\n",
      "****************************************\n",
      "\n",
      "n-gram = 5, top_k = 2:\n",
      "----------------------------------------\n",
      "Generated Name | In Original Data\n",
      "----------------------------------------\n",
      "tanis           | False\n",
      "lamacelogn      | False\n",
      "baryonyx        | False\n",
      "yinlongjia      | False\n",
      "xuanhanosa      | False\n",
      "****************************************\n",
      "\n",
      "n-gram = 3, top_k = 1:\n",
      "----------------------------------------\n",
      "Generated Name | In Original Data\n",
      "----------------------------------------\n",
      "jia             | False\n",
      "venator         | False\n",
      "or              | False\n",
      "anosaurus       | False\n",
      "ungosaurus      | False\n",
      "****************************************\n",
      "\n",
      "n-gram = 3, top_k = 2:\n",
      "----------------------------------------\n",
      "Generated Name | In Original Data\n",
      "----------------------------------------\n",
      "danostrisa      | False\n",
      "walosauros      | False\n",
      "kanostes        | False\n",
      "vasaurusau      | False\n",
      "walosausan      | False\n",
      "****************************************\n"
     ]
    }
   ],
   "source": [
    "# Ngram Model (n = 4), top_k = 1\n",
    "_ = train_and_generate_names(names=DATA, ngram=4, num_predictions=5, max_length=10, top_k=1, verbose=False)\n",
    "# Ngram Model (n = 4), top_k = 2\n",
    "_ =train_and_generate_names(names=DATA, ngram=4, num_predictions=5, max_length=10, top_k=2, verbose=False)\n",
    "# Ngram Model (n = 5), top_k = 2\n",
    "_ =train_and_generate_names(names=DATA, ngram=5, num_predictions=5, max_length=10, top_k=2, verbose=False)\n",
    "# Ngram Model (n = 3), top_k = 1\n",
    "_ =train_and_generate_names(names=DATA, ngram=3, num_predictions=5, max_length=10, top_k=1, verbose=False)\n",
    "# Ngram Model (n = 3), top_k = 2\n",
    "_ =train_and_generate_names(names=DATA, ngram=3, num_predictions=5, max_length=10, top_k=2, verbose=False)"
   ]
  },
  {
   "cell_type": "markdown",
   "metadata": {},
   "source": [
    "Results of my generator with different parameters' values : \n",
    "-  `n = 3` and `k = 2`<br>\n",
    "['neoversosuccingshadros', 'bator', 'quilmayisaurutichodosuccin', 'dasylossus', 'inosphagros']\n",
    "-  `n = 3` and `k = 3`<br>\n",
    "['yungonius', 'elaplossuesiohadromaia', 'venescelusothostospinax', 'xingsauros', 'euskelyx']\n",
    "-  `n = 2` and `k = 3`<br>\n",
    "['heisaudasilis', 'kan', 'ale', 'xiasaustesaudiangobistrops', 'raptastriong']\n",
    "- `n = 4` and `k=3`<br>\n",
    "['unicerosaurophale', 'yurgovuchia', 'ischyrophus', 'ovirapterovenatosaurus', 'magnapartenykus']\n",
    "- `n = 4` and `k=5`<br>\n",
    "['cristatus', 'vouivria', 'yongjianosaurutitanius', 'mojoceratusauravusaurornit', 'epachthosuchomimoides']"
   ]
  },
  {
   "cell_type": "markdown",
   "metadata": {},
   "source": [
    "It looks like with a 4-gram model, we generate name that looks like real dino names. Even with a high randomness (k=5), results are still good.\n",
    "\n",
    "Even with the 3-gram model, the results are good (with low randomness)."
   ]
  },
  {
   "cell_type": "markdown",
   "metadata": {
    "vscode": {
     "languageId": "markdown"
    }
   },
   "source": [
    "## Conclusion\n",
    "\n",
    "The results from the n-gram models, particularly the 4-gram models, were quite promising. The generated dinosaur names were realistic and closely resembled actual dinosaur names. Notably, when using a 4-gram model with `k = 1`, the generated names were of high quality and showed a good balance between randomness and coherence.\n",
    "\n",
    "During multiple tests, only one generated name was found in the original dataset, indicating that the model is capable of generating unique and plausible dinosaur names. This demonstrates the effectiveness of the n-gram approach in capturing the patterns and structures present in the original data.\n",
    "\n",
    "Overall, the 4-gram model with `k = 1` proved to be the most effective configuration for generating new dinosaur names."
   ]
  },
  {
   "cell_type": "markdown",
   "metadata": {},
   "source": [
    "# 2) Deep LEarning Models"
   ]
  },
  {
   "cell_type": "markdown",
   "metadata": {},
   "source": [
    "RNNs model are usually used for sequence prediction tasks. They are capable of learning long-term dependencies in data. This is the reason why they are used for text generation tasks."
   ]
  },
  {
   "cell_type": "markdown",
   "metadata": {},
   "source": [
    "## Tools"
   ]
  },
  {
   "cell_type": "markdown",
   "metadata": {},
   "source": [
    "First function to implement is the victory build. Remember that our data is pre-processed in the following format :<br>\n",
    "`0name1` (without necessary padding), `0name1111` (when padding is needed).\n",
    "\n",
    "So, we can immediately move to the build vocabulary function."
   ]
  },
  {
   "cell_type": "code",
   "execution_count": 35,
   "metadata": {},
   "outputs": [],
   "source": [
    "def build_vocabulary(names: list[str]) -> dict:\n",
    "    \"\"\"\n",
    "    Builds a vocabulary dictionary mapping each unique character to a unique integer ID,\n",
    "    with \"0\" as the start token and \"1\" as the end/padding token.\n",
    "    \n",
    "    Parameters:\n",
    "        names (list[str]): List of names to extract characters from.\n",
    "    \n",
    "    Returns:\n",
    "        dict: A dictionary with characters as keys and integer IDs as values.\n",
    "    \"\"\"\n",
    "    unique_chars = set(\"01\")  # Include \"0\" (start) and \"1\" (end/padding)\n",
    "    for name in names:\n",
    "        unique_chars.update(name)\n",
    "    \n",
    "    # Assign an integer ID to each character\n",
    "    vocab = {char: idx for idx, char in enumerate(sorted(unique_chars))}\n",
    "    return vocab"
   ]
  },
  {
   "cell_type": "markdown",
   "metadata": {},
   "source": [
    "Deep leanring model can't work with strings and chars. They need number to do all the computation and predictions. So, encoding is a must."
   ]
  },
  {
   "cell_type": "code",
   "execution_count": 36,
   "metadata": {},
   "outputs": [],
   "source": [
    "def encode_names(names: list[str], vocab: dict) -> tuple[list[list[int]], dict]:\n",
    "    \"\"\"\n",
    "    Encodes each name as a list of integer IDs based on the vocabulary and returns a reverse vocabulary.\n",
    "    \n",
    "    Parameters:\n",
    "        names (list[str]): List of names to encode.\n",
    "        vocab (dict): Vocabulary dictionary with character-to-integer mappings.\n",
    "    \n",
    "    Returns:\n",
    "        tuple: A tuple (encoded_names, reverse_vocab), where:\n",
    "            - encoded_names is a list of encoded names, each represented as a list of integers.\n",
    "            - reverse_vocab is a dictionary mapping integer IDs back to characters.\n",
    "    \"\"\"\n",
    "    reverse_vocab = {idx: char for char, idx in vocab.items()}\n",
    "    encoded_names = [[vocab[char] for char in name] for name in names]\n",
    "    return encoded_names, reverse_vocab"
   ]
  },
  {
   "cell_type": "markdown",
   "metadata": {},
   "source": [
    "Data is finally ready for LSTM. Now, we will create `X` and `y` sets to train the model.\n",
    "\n",
    "To define `X` and `y`, we will re-use the previous notion of **n-gram**. Indeed, RNN will learn to predict `y` letter, based on previous $k$-characteres contained in `X`."
   ]
  },
  {
   "cell_type": "code",
   "execution_count": 37,
   "metadata": {},
   "outputs": [],
   "source": [
    "def prepare_sequence_data(encoded_names: list[list[int]], sequence_length: int) -> tuple:\n",
    "    \"\"\"\n",
    "    Prepares the training data (X, y) for an RNN model (LSTM, GRU, etc.).\n",
    "    \n",
    "    Parameters:\n",
    "        encoded_names (list[list[int]]): List of encoded names where each character is an integer ID.\n",
    "        sequence_length (int): The fixed length of each input sequence for the model.\n",
    "    \n",
    "    Returns:\n",
    "        tuple: A tuple (X, y) where X is an array of input sequences and y is an array of target characters as integer IDs.\n",
    "    \"\"\"\n",
    "    X, y = [], []\n",
    "    \n",
    "    # For each name, create input-output pairs by sliding a window of size `sequence_length`\n",
    "    for name in encoded_names:\n",
    "        for i in range(len(name) - sequence_length):\n",
    "            input_seq = name[i:i + sequence_length]  # List of integer IDs\n",
    "            target_char = name[i + sequence_length]  # Integer ID for target character\n",
    "            X.append(input_seq)\n",
    "            y.append(target_char)\n",
    "    \n",
    "    # Ensure X and y are integer arrays\n",
    "    X = np.array(X, dtype=int)\n",
    "    y = np.array(y, dtype=int)\n",
    "    \n",
    "    return X, y"
   ]
  },
  {
   "cell_type": "markdown",
   "metadata": {},
   "source": [
    "Finally, I will implement a global variable that use the *helpers* functions implemented. That's will be usefull for generating multiple data to try LSTM on different *n-gram* setup. "
   ]
  },
  {
   "cell_type": "code",
   "execution_count": 38,
   "metadata": {},
   "outputs": [],
   "source": [
    "def prepare_model_data(names: list[str], sequence_length: int) -> tuple:\n",
    "    \"\"\"\n",
    "    Prepares all necessary components for training an RNN model to generate names.\n",
    "    \n",
    "    Parameters:\n",
    "        names (list[str]): List of names to use for training.\n",
    "        sequence_length (int): The fixed length of each input sequence for the model.\n",
    "    \n",
    "    Returns:\n",
    "        tuple: A tuple (X, y, vocab, reverse_vocab), where:\n",
    "            - X is an array of input sequences\n",
    "            - y is an array of target characters as integer IDs\n",
    "            - vocab is a dictionary mapping characters to integer IDs\n",
    "            - reverse_vocab is a dictionary mapping integer IDs back to characters\n",
    "    \"\"\"\n",
    "    # Step 1: Build vocabulary\n",
    "    vocab = build_vocabulary(names)\n",
    "    \n",
    "    # Step 2: Encode names and create the reverse vocabulary\n",
    "    encoded_names, reverse_vocab = encode_names(names, vocab)\n",
    "    \n",
    "    # Step 3: Prepare X and y for model training\n",
    "    X, y = prepare_sequence_data(encoded_names, sequence_length)\n",
    "    \n",
    "    return X, y, vocab, reverse_vocab"
   ]
  },
  {
   "cell_type": "markdown",
   "metadata": {},
   "source": [
    "## Models"
   ]
  },
  {
   "cell_type": "markdown",
   "metadata": {},
   "source": [
    "Different models will be implemented. All are RNN based models but with different architecture."
   ]
  },
  {
   "cell_type": "markdown",
   "metadata": {},
   "source": [
    "\n",
    "### 1. Standard LSTM Model\n",
    "- __Input Layer__: Accepts input sequences of length `sequence_length`.\n",
    "- __Embedding Layer__: Maps each character (represented by an integer index) into a dense vector, enabling the model to capture relationships between characters.\n",
    "- __LSTM Layer__: An LSTM layer learns sequential dependencies in the input data.\n",
    "- __Dense Layer__: Outputs a probability distribution across possible characters, predicting the next character in the sequence."
   ]
  },
  {
   "cell_type": "code",
   "execution_count": 39,
   "metadata": {},
   "outputs": [],
   "source": [
    "def build_lstm_model(vocab_size: int, sequence_length: int, embedding_dim: int = 50, lstm_units: int = 64) -> Model :\n",
    "    \"\"\"\n",
    "    Builds an LSTM model for name generation.\n",
    "    \n",
    "    Parameters:\n",
    "        vocab_size (int): Size of the vocabulary.\n",
    "        sequence_length (int): Length of each input sequence.\n",
    "        embedding_dim (int): Dimension of the embedding layer.\n",
    "        lstm_units (int): Number of LSTM units.\n",
    "    \n",
    "    Returns:\n",
    "        Model : Compiled LSTM model.\n",
    "    \"\"\"\n",
    "    inputs = Input(shape=(sequence_length,))\n",
    "    embedding = Embedding(input_dim=vocab_size, output_dim=embedding_dim)(inputs)\n",
    "    lstm1 = LSTM(lstm_units, return_sequences=False)(embedding) # return_sequences=False because we only need the last output\n",
    "    output = Dense(vocab_size, activation='softmax')(lstm1)\n",
    "\n",
    "    model = Model(inputs=inputs, outputs=output)\n",
    "    \n",
    "    model.compile(optimizer='adam', loss='sparse_categorical_crossentropy', metrics=['accuracy'])\n",
    "    return model"
   ]
  },
  {
   "cell_type": "markdown",
   "metadata": {},
   "source": [
    "\n",
    "\n",
    "### 2. LSTM Model with Dropout\n",
    "- **Input Layer**: Processes sequences of length `sequence_length`.\n",
    "- **Embedding Layer**: Converts each character (integer index) to a dense embedding vector, allowing the model to learn character patterns.\n",
    "- **LSTM Layer with Dropout**: An LSTM layer, equipped with dropout and recurrent dropout, to improve generalization and reduce overfitting on sequence patterns. Overfitting is **not** wanted here to not have a model that generates exact names from data.\n",
    "- **Dropout Layer**: Adds an additional dropout layer after the LSTM layer to further improve regularization.\n",
    "- **Dense Layer**: Outputs a probability distribution to predict the next character in the sequence."
   ]
  },
  {
   "cell_type": "code",
   "execution_count": 40,
   "metadata": {},
   "outputs": [],
   "source": [
    "def build_lstm_dropIn_model(vocab_size: int, sequence_length: int, embedding_dim: int = 50, lstm_units: int = 64) -> Model:\n",
    "    \"\"\"\n",
    "    Builds an LSTM model for name generation with dropout for regularization.\n",
    "    \n",
    "    Parameters:\n",
    "        vocab_size (int): Size of the vocabulary.\n",
    "        sequence_length (int): Length of each input sequence.\n",
    "        embedding_dim (int): Dimension of the embedding layer.\n",
    "        lstm_units (int): Number of LSTM units.\n",
    "    \n",
    "    Returns:\n",
    "        Model: Compiled LSTM model.\n",
    "    \"\"\"\n",
    "    inputs = Input(shape=(sequence_length,))\n",
    "    embedding = Embedding(input_dim=vocab_size, output_dim=embedding_dim)(inputs)\n",
    "    \n",
    "    # First LSTM layer with dropout in the LSTM and after it\n",
    "    lstm1 = LSTM(lstm_units, return_sequences=False, dropout=0.2, recurrent_dropout=0.2)(embedding)\n",
    "    dropout1 = Dropout(0.2)(lstm1)\n",
    "    \n",
    "    # Output layer\n",
    "    output = Dense(vocab_size, activation='softmax')(dropout1)\n",
    "\n",
    "    model = Model(inputs=inputs, outputs=output)\n",
    "    model.compile(optimizer='adam', loss='sparse_categorical_crossentropy', metrics=['accuracy'])\n",
    "    \n",
    "    return model"
   ]
  },
  {
   "cell_type": "markdown",
   "metadata": {},
   "source": [
    "### 3. GRU Model for Name Generation\n",
    "\n",
    "- **Source**: Adapted from [Using RNN Model for Text Generation](https://medium.com/analytics-vidhya/using-rnn-model-for-text-generation-c5a37017d142) on Medium.\n",
    "  \n",
    "- **Input Layer**: Accepts input sequences of length `sequence_length`, each integer representing a character.\n",
    "- **Embedding Layer**: Maps each character index into a 200-dimensional vector, allowing the model to learn relationships between characters.\n",
    "- **GRU Layers with Batch Normalization and Dropout**:\n",
    "  - **First GRU Layer**: Contains 64 units with batch normalization and dropout, returning sequences to pass to the next layer.\n",
    "  - **Second GRU Layer**: Contains 128 units, also with batch normalization and dropout, capturing more complex patterns.\n",
    "  - **Third GRU Layer**: Contains 256 units, with batch normalization and dropout, outputting a single vector for the final dense layers.\n",
    "- **Dense Layer with ReLU**: Fully connected layer with 200 units, ReLU activation, and L2 regularization to add non-linearity.\n",
    "- **Output Layer**: A softmax layer that produces a probability distribution over `vocab_size` characters, allowing the model to predict the next character in the sequence.\n",
    "\n",
    "This configuration enables the model to learn sequential dependencies and generate names by predicting one character at a time."
   ]
  },
  {
   "cell_type": "code",
   "execution_count": 41,
   "metadata": {},
   "outputs": [],
   "source": [
    "def build_gru_model(vocab_size: int, sequence_length: int, embedding_size : int) -> Model:\n",
    "    \"\"\"\n",
    "    Builds a GRU-based model for name generation using the Keras functional API.\n",
    "    \n",
    "    Parameters:\n",
    "        vocab_size (int): Size of the vocabulary.\n",
    "        sequence_length (int): Length of each input sequence.\n",
    "    \n",
    "    Returns:\n",
    "        Model: Compiled GRU model.\n",
    "    \"\"\"\n",
    "    # Input layer\n",
    "    inputs = Input(shape=(sequence_length,))\n",
    "    \n",
    "    # Embedding layer\n",
    "    embedding = Embedding(input_dim=vocab_size, output_dim=embedding_size)(inputs)\n",
    "    \n",
    "    # First GRU layer with Batch Normalization and Dropout\n",
    "    gru1 = GRU(64, return_sequences=True)(embedding)\n",
    "    bn1 = BatchNormalization()(gru1)\n",
    "    dropout1 = Dropout(0.2)(bn1)\n",
    "    \n",
    "    # Second GRU layer with Batch Normalization and Dropout\n",
    "    gru2 = GRU(128, return_sequences=True)(dropout1)\n",
    "    bn2 = BatchNormalization()(gru2)\n",
    "    dropout2 = Dropout(0.2)(bn2)\n",
    "    \n",
    "    # Third GRU layer with Batch Normalization and Dropout\n",
    "    gru3 = GRU(256, return_sequences=False)(dropout2)\n",
    "    bn3 = BatchNormalization()(gru3)\n",
    "    dropout3 = Dropout(0.2)(bn3)\n",
    "    \n",
    "    # Dense layer with ReLU activation and L2 regularization\n",
    "    dense = Dense(200, activation='relu', kernel_regularizer=regularizers.l2(0.01))(dropout3)\n",
    "    bn4 = BatchNormalization()(dense)\n",
    "    dropout4 = Dropout(0.2)(bn4)\n",
    "    \n",
    "    # Output layer with Softmax activation\n",
    "    outputs = Dense(vocab_size, activation='softmax')(dropout4)\n",
    "    \n",
    "    # Create the model\n",
    "    model = Model(inputs=inputs, outputs=outputs)\n",
    "    \n",
    "    # Compile the model\n",
    "    model.compile(optimizer='adam', loss='sparse_categorical_crossentropy', metrics=['accuracy'])\n",
    "    \n",
    "    return model"
   ]
  },
  {
   "cell_type": "markdown",
   "metadata": {},
   "source": [
    "## Initiallization of Models"
   ]
  },
  {
   "cell_type": "code",
   "execution_count": 42,
   "metadata": {},
   "outputs": [
    {
     "data": {
      "text/plain": [
       "((36576, 3), (36576,), 28, 3)"
      ]
     },
     "execution_count": 42,
     "metadata": {},
     "output_type": "execute_result"
    }
   ],
   "source": [
    "DATA = data[\"paddded_dino_name\"]\n",
    "sequence_length = 3\n",
    "embedding_size = max_word_length\n",
    "X, y, vocab, reverse_vocab = prepare_model_data(names=DATA, sequence_length=sequence_length)\n",
    "vocab_size = len(vocab)\n",
    "\n",
    "X.shape, y.shape, vocab_size, sequence_length"
   ]
  },
  {
   "cell_type": "code",
   "execution_count": 43,
   "metadata": {},
   "outputs": [],
   "source": [
    "lstm_model = build_lstm_model(vocab_size=vocab_size, sequence_length=sequence_length, embedding_dim=embedding_size, lstm_units=64)"
   ]
  },
  {
   "cell_type": "code",
   "execution_count": 44,
   "metadata": {},
   "outputs": [],
   "source": [
    "lstm_dropout = build_lstm_dropIn_model(vocab_size=vocab_size, sequence_length=sequence_length, embedding_dim=embedding_size, lstm_units=64)"
   ]
  },
  {
   "cell_type": "code",
   "execution_count": 45,
   "metadata": {},
   "outputs": [],
   "source": [
    "gru_model = build_gru_model(vocab_size=vocab_size, sequence_length=sequence_length, embedding_size=embedding_size)"
   ]
  },
  {
   "cell_type": "markdown",
   "metadata": {},
   "source": [
    "## Training"
   ]
  },
  {
   "cell_type": "markdown",
   "metadata": {},
   "source": [
    "Function to simply training new models."
   ]
  },
  {
   "cell_type": "code",
   "execution_count": 46,
   "metadata": {},
   "outputs": [],
   "source": [
    "def training(name: str, model: Model, X: np.array, y: np.array, batch_size: int, epochs: int) -> tuple:\n",
    "    \"\"\"\n",
    "    Trains the given model on the input data.\n",
    "    \n",
    "    Parameters:\n",
    "        name (str): Name of the model.\n",
    "        model (Model): Keras model to train.\n",
    "        X (np.array): Input data for training.\n",
    "        y (np.array): Target data for training.\n",
    "        batch_size (int): Number of samples per batch.\n",
    "        epochs (int): Number of epochs to train.\n",
    "    \n",
    "    Returns:\n",
    "        tuple: Trained Keras model and training history.\n",
    "    \"\"\"\n",
    "    print(f\"Training {name} model...\")\n",
    "    early_stopping = EarlyStopping(patience=10)\n",
    "    \n",
    "    # Train the model with validation split and early stopping\n",
    "    history = model.fit(X, y, batch_size=batch_size, epochs=epochs, validation_split=0.2, \n",
    "                        callbacks=[early_stopping], verbose=1)\n",
    "    \n",
    "    return model, history"
   ]
  },
  {
   "cell_type": "code",
   "execution_count": 47,
   "metadata": {},
   "outputs": [
    {
     "name": "stdout",
     "output_type": "stream",
     "text": [
      "Training LSTM model...\n",
      "Epoch 1/50\n",
      "\u001b[1m458/458\u001b[0m \u001b[32m━━━━━━━━━━━━━━━━━━━━\u001b[0m\u001b[37m\u001b[0m \u001b[1m4s\u001b[0m 4ms/step - accuracy: 0.5840 - loss: 1.6962 - val_accuracy: 0.7079 - val_loss: 1.0533\n",
      "Epoch 2/50\n",
      "\u001b[1m458/458\u001b[0m \u001b[32m━━━━━━━━━━━━━━━━━━━━\u001b[0m\u001b[37m\u001b[0m \u001b[1m1s\u001b[0m 3ms/step - accuracy: 0.7165 - loss: 1.0111 - val_accuracy: 0.7288 - val_loss: 0.9254\n",
      "Epoch 3/50\n",
      "\u001b[1m458/458\u001b[0m \u001b[32m━━━━━━━━━━━━━━━━━━━━\u001b[0m\u001b[37m\u001b[0m \u001b[1m1s\u001b[0m 3ms/step - accuracy: 0.7462 - loss: 0.8695 - val_accuracy: 0.7444 - val_loss: 0.8692\n",
      "Epoch 4/50\n",
      "\u001b[1m458/458\u001b[0m \u001b[32m━━━━━━━━━━━━━━━━━━━━\u001b[0m\u001b[37m\u001b[0m \u001b[1m1s\u001b[0m 3ms/step - accuracy: 0.7541 - loss: 0.8398 - val_accuracy: 0.7562 - val_loss: 0.8296\n",
      "Epoch 5/50\n",
      "\u001b[1m458/458\u001b[0m \u001b[32m━━━━━━━━━━━━━━━━━━━━\u001b[0m\u001b[37m\u001b[0m \u001b[1m1s\u001b[0m 3ms/step - accuracy: 0.7619 - loss: 0.8047 - val_accuracy: 0.7574 - val_loss: 0.8081\n",
      "Epoch 6/50\n",
      "\u001b[1m458/458\u001b[0m \u001b[32m━━━━━━━━━━━━━━━━━━━━\u001b[0m\u001b[37m\u001b[0m \u001b[1m1s\u001b[0m 3ms/step - accuracy: 0.7717 - loss: 0.7735 - val_accuracy: 0.7695 - val_loss: 0.7927\n",
      "Epoch 7/50\n",
      "\u001b[1m458/458\u001b[0m \u001b[32m━━━━━━━━━━━━━━━━━━━━\u001b[0m\u001b[37m\u001b[0m \u001b[1m1s\u001b[0m 3ms/step - accuracy: 0.7778 - loss: 0.7657 - val_accuracy: 0.7758 - val_loss: 0.7771\n",
      "Epoch 8/50\n",
      "\u001b[1m458/458\u001b[0m \u001b[32m━━━━━━━━━━━━━━━━━━━━\u001b[0m\u001b[37m\u001b[0m \u001b[1m1s\u001b[0m 3ms/step - accuracy: 0.7819 - loss: 0.7482 - val_accuracy: 0.7808 - val_loss: 0.7672\n",
      "Epoch 9/50\n",
      "\u001b[1m458/458\u001b[0m \u001b[32m━━━━━━━━━━━━━━━━━━━━\u001b[0m\u001b[37m\u001b[0m \u001b[1m1s\u001b[0m 3ms/step - accuracy: 0.7866 - loss: 0.7279 - val_accuracy: 0.7806 - val_loss: 0.7602\n",
      "Epoch 10/50\n",
      "\u001b[1m458/458\u001b[0m \u001b[32m━━━━━━━━━━━━━━━━━━━━\u001b[0m\u001b[37m\u001b[0m \u001b[1m1s\u001b[0m 3ms/step - accuracy: 0.7915 - loss: 0.7162 - val_accuracy: 0.7821 - val_loss: 0.7534\n",
      "Epoch 11/50\n",
      "\u001b[1m458/458\u001b[0m \u001b[32m━━━━━━━━━━━━━━━━━━━━\u001b[0m\u001b[37m\u001b[0m \u001b[1m1s\u001b[0m 3ms/step - accuracy: 0.7943 - loss: 0.7047 - val_accuracy: 0.7859 - val_loss: 0.7501\n",
      "Epoch 12/50\n",
      "\u001b[1m458/458\u001b[0m \u001b[32m━━━━━━━━━━━━━━━━━━━━\u001b[0m\u001b[37m\u001b[0m \u001b[1m1s\u001b[0m 3ms/step - accuracy: 0.7989 - loss: 0.6957 - val_accuracy: 0.7876 - val_loss: 0.7473\n",
      "Epoch 13/50\n",
      "\u001b[1m458/458\u001b[0m \u001b[32m━━━━━━━━━━━━━━━━━━━━\u001b[0m\u001b[37m\u001b[0m \u001b[1m1s\u001b[0m 3ms/step - accuracy: 0.8010 - loss: 0.6823 - val_accuracy: 0.7900 - val_loss: 0.7417\n",
      "Epoch 14/50\n",
      "\u001b[1m458/458\u001b[0m \u001b[32m━━━━━━━━━━━━━━━━━━━━\u001b[0m\u001b[37m\u001b[0m \u001b[1m2s\u001b[0m 3ms/step - accuracy: 0.8051 - loss: 0.6724 - val_accuracy: 0.7933 - val_loss: 0.7373\n",
      "Epoch 15/50\n",
      "\u001b[1m458/458\u001b[0m \u001b[32m━━━━━━━━━━━━━━━━━━━━\u001b[0m\u001b[37m\u001b[0m \u001b[1m1s\u001b[0m 3ms/step - accuracy: 0.8096 - loss: 0.6596 - val_accuracy: 0.7894 - val_loss: 0.7377\n",
      "Epoch 16/50\n",
      "\u001b[1m458/458\u001b[0m \u001b[32m━━━━━━━━━━━━━━━━━━━━\u001b[0m\u001b[37m\u001b[0m \u001b[1m2s\u001b[0m 3ms/step - accuracy: 0.8080 - loss: 0.6610 - val_accuracy: 0.7951 - val_loss: 0.7344\n",
      "Epoch 17/50\n",
      "\u001b[1m458/458\u001b[0m \u001b[32m━━━━━━━━━━━━━━━━━━━━\u001b[0m\u001b[37m\u001b[0m \u001b[1m1s\u001b[0m 3ms/step - accuracy: 0.8116 - loss: 0.6438 - val_accuracy: 0.7952 - val_loss: 0.7338\n",
      "Epoch 18/50\n",
      "\u001b[1m458/458\u001b[0m \u001b[32m━━━━━━━━━━━━━━━━━━━━\u001b[0m\u001b[37m\u001b[0m \u001b[1m1s\u001b[0m 3ms/step - accuracy: 0.8177 - loss: 0.6258 - val_accuracy: 0.7932 - val_loss: 0.7380\n",
      "Epoch 19/50\n",
      "\u001b[1m458/458\u001b[0m \u001b[32m━━━━━━━━━━━━━━━━━━━━\u001b[0m\u001b[37m\u001b[0m \u001b[1m1s\u001b[0m 3ms/step - accuracy: 0.8137 - loss: 0.6391 - val_accuracy: 0.7943 - val_loss: 0.7313\n",
      "Epoch 20/50\n",
      "\u001b[1m458/458\u001b[0m \u001b[32m━━━━━━━━━━━━━━━━━━━━\u001b[0m\u001b[37m\u001b[0m \u001b[1m1s\u001b[0m 3ms/step - accuracy: 0.8191 - loss: 0.6187 - val_accuracy: 0.7970 - val_loss: 0.7324\n",
      "Epoch 21/50\n",
      "\u001b[1m458/458\u001b[0m \u001b[32m━━━━━━━━━━━━━━━━━━━━\u001b[0m\u001b[37m\u001b[0m \u001b[1m1s\u001b[0m 3ms/step - accuracy: 0.8209 - loss: 0.6030 - val_accuracy: 0.7989 - val_loss: 0.7312\n",
      "Epoch 22/50\n",
      "\u001b[1m458/458\u001b[0m \u001b[32m━━━━━━━━━━━━━━━━━━━━\u001b[0m\u001b[37m\u001b[0m \u001b[1m2s\u001b[0m 3ms/step - accuracy: 0.8202 - loss: 0.6055 - val_accuracy: 0.8007 - val_loss: 0.7329\n",
      "Epoch 23/50\n",
      "\u001b[1m458/458\u001b[0m \u001b[32m━━━━━━━━━━━━━━━━━━━━\u001b[0m\u001b[37m\u001b[0m \u001b[1m2s\u001b[0m 3ms/step - accuracy: 0.8245 - loss: 0.5920 - val_accuracy: 0.8003 - val_loss: 0.7341\n",
      "Epoch 24/50\n",
      "\u001b[1m458/458\u001b[0m \u001b[32m━━━━━━━━━━━━━━━━━━━━\u001b[0m\u001b[37m\u001b[0m \u001b[1m1s\u001b[0m 3ms/step - accuracy: 0.8219 - loss: 0.5968 - val_accuracy: 0.7991 - val_loss: 0.7365\n",
      "Epoch 25/50\n",
      "\u001b[1m458/458\u001b[0m \u001b[32m━━━━━━━━━━━━━━━━━━━━\u001b[0m\u001b[37m\u001b[0m \u001b[1m1s\u001b[0m 3ms/step - accuracy: 0.8257 - loss: 0.5881 - val_accuracy: 0.7988 - val_loss: 0.7343\n",
      "Epoch 26/50\n",
      "\u001b[1m458/458\u001b[0m \u001b[32m━━━━━━━━━━━━━━━━━━━━\u001b[0m\u001b[37m\u001b[0m \u001b[1m1s\u001b[0m 3ms/step - accuracy: 0.8243 - loss: 0.5916 - val_accuracy: 0.7995 - val_loss: 0.7343\n",
      "Epoch 27/50\n",
      "\u001b[1m458/458\u001b[0m \u001b[32m━━━━━━━━━━━━━━━━━━━━\u001b[0m\u001b[37m\u001b[0m \u001b[1m1s\u001b[0m 3ms/step - accuracy: 0.8239 - loss: 0.5951 - val_accuracy: 0.7957 - val_loss: 0.7392\n",
      "Epoch 28/50\n",
      "\u001b[1m458/458\u001b[0m \u001b[32m━━━━━━━━━━━━━━━━━━━━\u001b[0m\u001b[37m\u001b[0m \u001b[1m1s\u001b[0m 3ms/step - accuracy: 0.8292 - loss: 0.5779 - val_accuracy: 0.7972 - val_loss: 0.7378\n",
      "Epoch 29/50\n",
      "\u001b[1m458/458\u001b[0m \u001b[32m━━━━━━━━━━━━━━━━━━━━\u001b[0m\u001b[37m\u001b[0m \u001b[1m1s\u001b[0m 3ms/step - accuracy: 0.8296 - loss: 0.5733 - val_accuracy: 0.7988 - val_loss: 0.7416\n",
      "Epoch 30/50\n",
      "\u001b[1m458/458\u001b[0m \u001b[32m━━━━━━━━━━━━━━━━━━━━\u001b[0m\u001b[37m\u001b[0m \u001b[1m1s\u001b[0m 3ms/step - accuracy: 0.8309 - loss: 0.5670 - val_accuracy: 0.8002 - val_loss: 0.7385\n",
      "Epoch 31/50\n",
      "\u001b[1m458/458\u001b[0m \u001b[32m━━━━━━━━━━━━━━━━━━━━\u001b[0m\u001b[37m\u001b[0m \u001b[1m1s\u001b[0m 3ms/step - accuracy: 0.8290 - loss: 0.5655 - val_accuracy: 0.8003 - val_loss: 0.7467\n"
     ]
    }
   ],
   "source": [
    "lstm_model, lstm_history = training(\"LSTM\", lstm_model, X, y, batch_size=64, epochs=50)"
   ]
  },
  {
   "cell_type": "code",
   "execution_count": 48,
   "metadata": {},
   "outputs": [
    {
     "name": "stdout",
     "output_type": "stream",
     "text": [
      "Training LSTM with Dropout model...\n",
      "Epoch 1/50\n",
      "\u001b[1m458/458\u001b[0m \u001b[32m━━━━━━━━━━━━━━━━━━━━\u001b[0m\u001b[37m\u001b[0m \u001b[1m4s\u001b[0m 4ms/step - accuracy: 0.5843 - loss: 1.7366 - val_accuracy: 0.6899 - val_loss: 1.0740\n",
      "Epoch 2/50\n",
      "\u001b[1m458/458\u001b[0m \u001b[32m━━━━━━━━━━━━━━━━━━━━\u001b[0m\u001b[37m\u001b[0m \u001b[1m2s\u001b[0m 4ms/step - accuracy: 0.7095 - loss: 1.0245 - val_accuracy: 0.7317 - val_loss: 0.9287\n",
      "Epoch 3/50\n",
      "\u001b[1m458/458\u001b[0m \u001b[32m━━━━━━━━━━━━━━━━━━━━\u001b[0m\u001b[37m\u001b[0m \u001b[1m2s\u001b[0m 3ms/step - accuracy: 0.7361 - loss: 0.9204 - val_accuracy: 0.7351 - val_loss: 0.8844\n",
      "Epoch 4/50\n",
      "\u001b[1m458/458\u001b[0m \u001b[32m━━━━━━━━━━━━━━━━━━━━\u001b[0m\u001b[37m\u001b[0m \u001b[1m2s\u001b[0m 3ms/step - accuracy: 0.7486 - loss: 0.8646 - val_accuracy: 0.7419 - val_loss: 0.8516\n",
      "Epoch 5/50\n",
      "\u001b[1m458/458\u001b[0m \u001b[32m━━━━━━━━━━━━━━━━━━━━\u001b[0m\u001b[37m\u001b[0m \u001b[1m2s\u001b[0m 3ms/step - accuracy: 0.7416 - loss: 0.8725 - val_accuracy: 0.7499 - val_loss: 0.8284\n",
      "Epoch 6/50\n",
      "\u001b[1m458/458\u001b[0m \u001b[32m━━━━━━━━━━━━━━━━━━━━\u001b[0m\u001b[37m\u001b[0m \u001b[1m2s\u001b[0m 3ms/step - accuracy: 0.7591 - loss: 0.8194 - val_accuracy: 0.7594 - val_loss: 0.8077\n",
      "Epoch 7/50\n",
      "\u001b[1m458/458\u001b[0m \u001b[32m━━━━━━━━━━━━━━━━━━━━\u001b[0m\u001b[37m\u001b[0m \u001b[1m2s\u001b[0m 3ms/step - accuracy: 0.7619 - loss: 0.8141 - val_accuracy: 0.7624 - val_loss: 0.7940\n",
      "Epoch 8/50\n",
      "\u001b[1m458/458\u001b[0m \u001b[32m━━━━━━━━━━━━━━━━━━━━\u001b[0m\u001b[37m\u001b[0m \u001b[1m2s\u001b[0m 3ms/step - accuracy: 0.7679 - loss: 0.7982 - val_accuracy: 0.7717 - val_loss: 0.7811\n",
      "Epoch 9/50\n",
      "\u001b[1m458/458\u001b[0m \u001b[32m━━━━━━━━━━━━━━━━━━━━\u001b[0m\u001b[37m\u001b[0m \u001b[1m2s\u001b[0m 3ms/step - accuracy: 0.7731 - loss: 0.7778 - val_accuracy: 0.7734 - val_loss: 0.7734\n",
      "Epoch 10/50\n",
      "\u001b[1m458/458\u001b[0m \u001b[32m━━━━━━━━━━━━━━━━━━━━\u001b[0m\u001b[37m\u001b[0m \u001b[1m2s\u001b[0m 3ms/step - accuracy: 0.7779 - loss: 0.7606 - val_accuracy: 0.7760 - val_loss: 0.7644\n",
      "Epoch 11/50\n",
      "\u001b[1m458/458\u001b[0m \u001b[32m━━━━━━━━━━━━━━━━━━━━\u001b[0m\u001b[37m\u001b[0m \u001b[1m2s\u001b[0m 3ms/step - accuracy: 0.7747 - loss: 0.7670 - val_accuracy: 0.7735 - val_loss: 0.7607\n",
      "Epoch 12/50\n",
      "\u001b[1m458/458\u001b[0m \u001b[32m━━━━━━━━━━━━━━━━━━━━\u001b[0m\u001b[37m\u001b[0m \u001b[1m2s\u001b[0m 3ms/step - accuracy: 0.7795 - loss: 0.7582 - val_accuracy: 0.7828 - val_loss: 0.7503\n",
      "Epoch 13/50\n",
      "\u001b[1m458/458\u001b[0m \u001b[32m━━━━━━━━━━━━━━━━━━━━\u001b[0m\u001b[37m\u001b[0m \u001b[1m2s\u001b[0m 3ms/step - accuracy: 0.7763 - loss: 0.7582 - val_accuracy: 0.7831 - val_loss: 0.7469\n",
      "Epoch 14/50\n",
      "\u001b[1m458/458\u001b[0m \u001b[32m━━━━━━━━━━━━━━━━━━━━\u001b[0m\u001b[37m\u001b[0m \u001b[1m2s\u001b[0m 3ms/step - accuracy: 0.7810 - loss: 0.7577 - val_accuracy: 0.7839 - val_loss: 0.7435\n",
      "Epoch 15/50\n",
      "\u001b[1m458/458\u001b[0m \u001b[32m━━━━━━━━━━━━━━━━━━━━\u001b[0m\u001b[37m\u001b[0m \u001b[1m2s\u001b[0m 3ms/step - accuracy: 0.7850 - loss: 0.7378 - val_accuracy: 0.7844 - val_loss: 0.7391\n",
      "Epoch 16/50\n",
      "\u001b[1m458/458\u001b[0m \u001b[32m━━━━━━━━━━━━━━━━━━━━\u001b[0m\u001b[37m\u001b[0m \u001b[1m2s\u001b[0m 3ms/step - accuracy: 0.7834 - loss: 0.7360 - val_accuracy: 0.7870 - val_loss: 0.7363\n",
      "Epoch 17/50\n",
      "\u001b[1m458/458\u001b[0m \u001b[32m━━━━━━━━━━━━━━━━━━━━\u001b[0m\u001b[37m\u001b[0m \u001b[1m2s\u001b[0m 3ms/step - accuracy: 0.7819 - loss: 0.7338 - val_accuracy: 0.7868 - val_loss: 0.7365\n",
      "Epoch 18/50\n",
      "\u001b[1m458/458\u001b[0m \u001b[32m━━━━━━━━━━━━━━━━━━━━\u001b[0m\u001b[37m\u001b[0m \u001b[1m2s\u001b[0m 3ms/step - accuracy: 0.7893 - loss: 0.7214 - val_accuracy: 0.7892 - val_loss: 0.7319\n",
      "Epoch 19/50\n",
      "\u001b[1m458/458\u001b[0m \u001b[32m━━━━━━━━━━━━━━━━━━━━\u001b[0m\u001b[37m\u001b[0m \u001b[1m2s\u001b[0m 3ms/step - accuracy: 0.7886 - loss: 0.7253 - val_accuracy: 0.7879 - val_loss: 0.7299\n",
      "Epoch 20/50\n",
      "\u001b[1m458/458\u001b[0m \u001b[32m━━━━━━━━━━━━━━━━━━━━\u001b[0m\u001b[37m\u001b[0m \u001b[1m2s\u001b[0m 3ms/step - accuracy: 0.7916 - loss: 0.7209 - val_accuracy: 0.7932 - val_loss: 0.7279\n",
      "Epoch 21/50\n",
      "\u001b[1m458/458\u001b[0m \u001b[32m━━━━━━━━━━━━━━━━━━━━\u001b[0m\u001b[37m\u001b[0m \u001b[1m2s\u001b[0m 3ms/step - accuracy: 0.7838 - loss: 0.7335 - val_accuracy: 0.7955 - val_loss: 0.7256\n",
      "Epoch 22/50\n",
      "\u001b[1m458/458\u001b[0m \u001b[32m━━━━━━━━━━━━━━━━━━━━\u001b[0m\u001b[37m\u001b[0m \u001b[1m2s\u001b[0m 3ms/step - accuracy: 0.7905 - loss: 0.7164 - val_accuracy: 0.7931 - val_loss: 0.7268\n",
      "Epoch 23/50\n",
      "\u001b[1m458/458\u001b[0m \u001b[32m━━━━━━━━━━━━━━━━━━━━\u001b[0m\u001b[37m\u001b[0m \u001b[1m2s\u001b[0m 3ms/step - accuracy: 0.7941 - loss: 0.6965 - val_accuracy: 0.7925 - val_loss: 0.7234\n",
      "Epoch 24/50\n",
      "\u001b[1m458/458\u001b[0m \u001b[32m━━━━━━━━━━━━━━━━━━━━\u001b[0m\u001b[37m\u001b[0m \u001b[1m2s\u001b[0m 3ms/step - accuracy: 0.7914 - loss: 0.7160 - val_accuracy: 0.7941 - val_loss: 0.7244\n",
      "Epoch 25/50\n",
      "\u001b[1m458/458\u001b[0m \u001b[32m━━━━━━━━━━━━━━━━━━━━\u001b[0m\u001b[37m\u001b[0m \u001b[1m2s\u001b[0m 3ms/step - accuracy: 0.8008 - loss: 0.6814 - val_accuracy: 0.7969 - val_loss: 0.7200\n",
      "Epoch 26/50\n",
      "\u001b[1m458/458\u001b[0m \u001b[32m━━━━━━━━━━━━━━━━━━━━\u001b[0m\u001b[37m\u001b[0m \u001b[1m2s\u001b[0m 4ms/step - accuracy: 0.8006 - loss: 0.6826 - val_accuracy: 0.7976 - val_loss: 0.7214\n",
      "Epoch 27/50\n",
      "\u001b[1m458/458\u001b[0m \u001b[32m━━━━━━━━━━━━━━━━━━━━\u001b[0m\u001b[37m\u001b[0m \u001b[1m2s\u001b[0m 3ms/step - accuracy: 0.7988 - loss: 0.6869 - val_accuracy: 0.7947 - val_loss: 0.7216\n",
      "Epoch 28/50\n",
      "\u001b[1m458/458\u001b[0m \u001b[32m━━━━━━━━━━━━━━━━━━━━\u001b[0m\u001b[37m\u001b[0m \u001b[1m2s\u001b[0m 4ms/step - accuracy: 0.7963 - loss: 0.6997 - val_accuracy: 0.7925 - val_loss: 0.7222\n",
      "Epoch 29/50\n",
      "\u001b[1m458/458\u001b[0m \u001b[32m━━━━━━━━━━━━━━━━━━━━\u001b[0m\u001b[37m\u001b[0m \u001b[1m2s\u001b[0m 3ms/step - accuracy: 0.7991 - loss: 0.6848 - val_accuracy: 0.7967 - val_loss: 0.7183\n",
      "Epoch 30/50\n",
      "\u001b[1m458/458\u001b[0m \u001b[32m━━━━━━━━━━━━━━━━━━━━\u001b[0m\u001b[37m\u001b[0m \u001b[1m2s\u001b[0m 3ms/step - accuracy: 0.7990 - loss: 0.6818 - val_accuracy: 0.7948 - val_loss: 0.7201\n",
      "Epoch 31/50\n",
      "\u001b[1m458/458\u001b[0m \u001b[32m━━━━━━━━━━━━━━━━━━━━\u001b[0m\u001b[37m\u001b[0m \u001b[1m2s\u001b[0m 3ms/step - accuracy: 0.8019 - loss: 0.6770 - val_accuracy: 0.7951 - val_loss: 0.7217\n",
      "Epoch 32/50\n",
      "\u001b[1m458/458\u001b[0m \u001b[32m━━━━━━━━━━━━━━━━━━━━\u001b[0m\u001b[37m\u001b[0m \u001b[1m2s\u001b[0m 3ms/step - accuracy: 0.8007 - loss: 0.6750 - val_accuracy: 0.7984 - val_loss: 0.7194\n",
      "Epoch 33/50\n",
      "\u001b[1m458/458\u001b[0m \u001b[32m━━━━━━━━━━━━━━━━━━━━\u001b[0m\u001b[37m\u001b[0m \u001b[1m2s\u001b[0m 3ms/step - accuracy: 0.8039 - loss: 0.6713 - val_accuracy: 0.7996 - val_loss: 0.7152\n",
      "Epoch 34/50\n",
      "\u001b[1m458/458\u001b[0m \u001b[32m━━━━━━━━━━━━━━━━━━━━\u001b[0m\u001b[37m\u001b[0m \u001b[1m2s\u001b[0m 3ms/step - accuracy: 0.7997 - loss: 0.6807 - val_accuracy: 0.7991 - val_loss: 0.7165\n",
      "Epoch 35/50\n",
      "\u001b[1m458/458\u001b[0m \u001b[32m━━━━━━━━━━━━━━━━━━━━\u001b[0m\u001b[37m\u001b[0m \u001b[1m2s\u001b[0m 3ms/step - accuracy: 0.8012 - loss: 0.6768 - val_accuracy: 0.7967 - val_loss: 0.7185\n",
      "Epoch 36/50\n",
      "\u001b[1m458/458\u001b[0m \u001b[32m━━━━━━━━━━━━━━━━━━━━\u001b[0m\u001b[37m\u001b[0m \u001b[1m2s\u001b[0m 3ms/step - accuracy: 0.8022 - loss: 0.6753 - val_accuracy: 0.7980 - val_loss: 0.7172\n",
      "Epoch 37/50\n",
      "\u001b[1m458/458\u001b[0m \u001b[32m━━━━━━━━━━━━━━━━━━━━\u001b[0m\u001b[37m\u001b[0m \u001b[1m2s\u001b[0m 3ms/step - accuracy: 0.7989 - loss: 0.6750 - val_accuracy: 0.7988 - val_loss: 0.7173\n",
      "Epoch 38/50\n",
      "\u001b[1m458/458\u001b[0m \u001b[32m━━━━━━━━━━━━━━━━━━━━\u001b[0m\u001b[37m\u001b[0m \u001b[1m2s\u001b[0m 3ms/step - accuracy: 0.8023 - loss: 0.6665 - val_accuracy: 0.7999 - val_loss: 0.7184\n",
      "Epoch 39/50\n",
      "\u001b[1m458/458\u001b[0m \u001b[32m━━━━━━━━━━━━━━━━━━━━\u001b[0m\u001b[37m\u001b[0m \u001b[1m1s\u001b[0m 3ms/step - accuracy: 0.7987 - loss: 0.6775 - val_accuracy: 0.7974 - val_loss: 0.7194\n",
      "Epoch 40/50\n",
      "\u001b[1m458/458\u001b[0m \u001b[32m━━━━━━━━━━━━━━━━━━━━\u001b[0m\u001b[37m\u001b[0m \u001b[1m2s\u001b[0m 3ms/step - accuracy: 0.8035 - loss: 0.6668 - val_accuracy: 0.7981 - val_loss: 0.7166\n",
      "Epoch 41/50\n",
      "\u001b[1m458/458\u001b[0m \u001b[32m━━━━━━━━━━━━━━━━━━━━\u001b[0m\u001b[37m\u001b[0m \u001b[1m2s\u001b[0m 3ms/step - accuracy: 0.8036 - loss: 0.6620 - val_accuracy: 0.7974 - val_loss: 0.7198\n",
      "Epoch 42/50\n",
      "\u001b[1m458/458\u001b[0m \u001b[32m━━━━━━━━━━━━━━━━━━━━\u001b[0m\u001b[37m\u001b[0m \u001b[1m2s\u001b[0m 3ms/step - accuracy: 0.8046 - loss: 0.6669 - val_accuracy: 0.7981 - val_loss: 0.7198\n",
      "Epoch 43/50\n",
      "\u001b[1m458/458\u001b[0m \u001b[32m━━━━━━━━━━━━━━━━━━━━\u001b[0m\u001b[37m\u001b[0m \u001b[1m2s\u001b[0m 3ms/step - accuracy: 0.8036 - loss: 0.6618 - val_accuracy: 0.7984 - val_loss: 0.7186\n"
     ]
    }
   ],
   "source": [
    "lstm_dropout, lstm_dropout_history = training(\"LSTM with Dropout\", lstm_dropout, X, y, batch_size=64, epochs=50)"
   ]
  },
  {
   "cell_type": "code",
   "execution_count": 49,
   "metadata": {},
   "outputs": [
    {
     "name": "stdout",
     "output_type": "stream",
     "text": [
      "Training GRU model...\n",
      "Epoch 1/50\n",
      "\u001b[1m458/458\u001b[0m \u001b[32m━━━━━━━━━━━━━━━━━━━━\u001b[0m\u001b[37m\u001b[0m \u001b[1m16s\u001b[0m 17ms/step - accuracy: 0.6692 - loss: 2.8885 - val_accuracy: 0.7176 - val_loss: 1.4665\n",
      "Epoch 2/50\n",
      "\u001b[1m458/458\u001b[0m \u001b[32m━━━━━━━━━━━━━━━━━━━━\u001b[0m\u001b[37m\u001b[0m \u001b[1m7s\u001b[0m 14ms/step - accuracy: 0.7502 - loss: 1.0774 - val_accuracy: 0.7597 - val_loss: 0.9079\n",
      "Epoch 3/50\n",
      "\u001b[1m458/458\u001b[0m \u001b[32m━━━━━━━━━━━━━━━━━━━━\u001b[0m\u001b[37m\u001b[0m \u001b[1m7s\u001b[0m 14ms/step - accuracy: 0.7595 - loss: 0.9393 - val_accuracy: 0.7783 - val_loss: 0.8760\n",
      "Epoch 4/50\n",
      "\u001b[1m458/458\u001b[0m \u001b[32m━━━━━━━━━━━━━━━━━━━━\u001b[0m\u001b[37m\u001b[0m \u001b[1m7s\u001b[0m 14ms/step - accuracy: 0.7683 - loss: 0.8940 - val_accuracy: 0.7750 - val_loss: 0.8569\n",
      "Epoch 5/50\n",
      "\u001b[1m458/458\u001b[0m \u001b[32m━━━━━━━━━━━━━━━━━━━━\u001b[0m\u001b[37m\u001b[0m \u001b[1m7s\u001b[0m 14ms/step - accuracy: 0.7756 - loss: 0.8589 - val_accuracy: 0.7858 - val_loss: 0.8464\n",
      "Epoch 6/50\n",
      "\u001b[1m458/458\u001b[0m \u001b[32m━━━━━━━━━━━━━━━━━━━━\u001b[0m\u001b[37m\u001b[0m \u001b[1m7s\u001b[0m 15ms/step - accuracy: 0.7791 - loss: 0.8541 - val_accuracy: 0.7873 - val_loss: 0.8285\n",
      "Epoch 7/50\n",
      "\u001b[1m458/458\u001b[0m \u001b[32m━━━━━━━━━━━━━━━━━━━━\u001b[0m\u001b[37m\u001b[0m \u001b[1m7s\u001b[0m 15ms/step - accuracy: 0.7832 - loss: 0.8267 - val_accuracy: 0.7888 - val_loss: 0.8279\n",
      "Epoch 8/50\n",
      "\u001b[1m458/458\u001b[0m \u001b[32m━━━━━━━━━━━━━━━━━━━━\u001b[0m\u001b[37m\u001b[0m \u001b[1m7s\u001b[0m 15ms/step - accuracy: 0.7902 - loss: 0.8140 - val_accuracy: 0.7978 - val_loss: 0.8232\n",
      "Epoch 9/50\n",
      "\u001b[1m458/458\u001b[0m \u001b[32m━━━━━━━━━━━━━━━━━━━━\u001b[0m\u001b[37m\u001b[0m \u001b[1m7s\u001b[0m 15ms/step - accuracy: 0.7923 - loss: 0.7951 - val_accuracy: 0.7933 - val_loss: 0.8217\n",
      "Epoch 10/50\n",
      "\u001b[1m458/458\u001b[0m \u001b[32m━━━━━━━━━━━━━━━━━━━━\u001b[0m\u001b[37m\u001b[0m \u001b[1m7s\u001b[0m 15ms/step - accuracy: 0.7958 - loss: 0.7945 - val_accuracy: 0.7909 - val_loss: 0.8324\n",
      "Epoch 11/50\n",
      "\u001b[1m458/458\u001b[0m \u001b[32m━━━━━━━━━━━━━━━━━━━━\u001b[0m\u001b[37m\u001b[0m \u001b[1m7s\u001b[0m 15ms/step - accuracy: 0.7960 - loss: 0.7885 - val_accuracy: 0.7974 - val_loss: 0.8162\n",
      "Epoch 12/50\n",
      "\u001b[1m458/458\u001b[0m \u001b[32m━━━━━━━━━━━━━━━━━━━━\u001b[0m\u001b[37m\u001b[0m \u001b[1m7s\u001b[0m 14ms/step - accuracy: 0.8047 - loss: 0.7625 - val_accuracy: 0.7952 - val_loss: 0.8164\n",
      "Epoch 13/50\n",
      "\u001b[1m458/458\u001b[0m \u001b[32m━━━━━━━━━━━━━━━━━━━━\u001b[0m\u001b[37m\u001b[0m \u001b[1m7s\u001b[0m 15ms/step - accuracy: 0.8052 - loss: 0.7571 - val_accuracy: 0.7955 - val_loss: 0.8284\n",
      "Epoch 14/50\n",
      "\u001b[1m458/458\u001b[0m \u001b[32m━━━━━━━━━━━━━━━━━━━━\u001b[0m\u001b[37m\u001b[0m \u001b[1m7s\u001b[0m 16ms/step - accuracy: 0.7968 - loss: 0.7777 - val_accuracy: 0.7963 - val_loss: 0.8188\n",
      "Epoch 15/50\n",
      "\u001b[1m458/458\u001b[0m \u001b[32m━━━━━━━━━━━━━━━━━━━━\u001b[0m\u001b[37m\u001b[0m \u001b[1m7s\u001b[0m 15ms/step - accuracy: 0.8063 - loss: 0.7501 - val_accuracy: 0.8025 - val_loss: 0.8167\n",
      "Epoch 16/50\n",
      "\u001b[1m458/458\u001b[0m \u001b[32m━━━━━━━━━━━━━━━━━━━━\u001b[0m\u001b[37m\u001b[0m \u001b[1m7s\u001b[0m 15ms/step - accuracy: 0.8064 - loss: 0.7416 - val_accuracy: 0.7946 - val_loss: 0.8257\n",
      "Epoch 17/50\n",
      "\u001b[1m458/458\u001b[0m \u001b[32m━━━━━━━━━━━━━━━━━━━━\u001b[0m\u001b[37m\u001b[0m \u001b[1m7s\u001b[0m 15ms/step - accuracy: 0.8112 - loss: 0.7325 - val_accuracy: 0.7940 - val_loss: 0.8234\n",
      "Epoch 18/50\n",
      "\u001b[1m458/458\u001b[0m \u001b[32m━━━━━━━━━━━━━━━━━━━━\u001b[0m\u001b[37m\u001b[0m \u001b[1m7s\u001b[0m 15ms/step - accuracy: 0.8113 - loss: 0.7340 - val_accuracy: 0.8018 - val_loss: 0.8139\n",
      "Epoch 19/50\n",
      "\u001b[1m458/458\u001b[0m \u001b[32m━━━━━━━━━━━━━━━━━━━━\u001b[0m\u001b[37m\u001b[0m \u001b[1m7s\u001b[0m 15ms/step - accuracy: 0.8085 - loss: 0.7313 - val_accuracy: 0.7972 - val_loss: 0.8372\n",
      "Epoch 20/50\n",
      "\u001b[1m458/458\u001b[0m \u001b[32m━━━━━━━━━━━━━━━━━━━━\u001b[0m\u001b[37m\u001b[0m \u001b[1m7s\u001b[0m 15ms/step - accuracy: 0.8148 - loss: 0.7258 - val_accuracy: 0.7991 - val_loss: 0.8215\n",
      "Epoch 21/50\n",
      "\u001b[1m458/458\u001b[0m \u001b[32m━━━━━━━━━━━━━━━━━━━━\u001b[0m\u001b[37m\u001b[0m \u001b[1m7s\u001b[0m 15ms/step - accuracy: 0.8092 - loss: 0.7286 - val_accuracy: 0.8024 - val_loss: 0.8172\n",
      "Epoch 22/50\n",
      "\u001b[1m458/458\u001b[0m \u001b[32m━━━━━━━━━━━━━━━━━━━━\u001b[0m\u001b[37m\u001b[0m \u001b[1m7s\u001b[0m 15ms/step - accuracy: 0.8160 - loss: 0.7058 - val_accuracy: 0.8011 - val_loss: 0.8322\n",
      "Epoch 23/50\n",
      "\u001b[1m458/458\u001b[0m \u001b[32m━━━━━━━━━━━━━━━━━━━━\u001b[0m\u001b[37m\u001b[0m \u001b[1m7s\u001b[0m 15ms/step - accuracy: 0.8180 - loss: 0.6996 - val_accuracy: 0.7944 - val_loss: 0.8339\n",
      "Epoch 24/50\n",
      "\u001b[1m458/458\u001b[0m \u001b[32m━━━━━━━━━━━━━━━━━━━━\u001b[0m\u001b[37m\u001b[0m \u001b[1m8s\u001b[0m 17ms/step - accuracy: 0.8157 - loss: 0.7077 - val_accuracy: 0.7981 - val_loss: 0.8219\n",
      "Epoch 25/50\n",
      "\u001b[1m458/458\u001b[0m \u001b[32m━━━━━━━━━━━━━━━━━━━━\u001b[0m\u001b[37m\u001b[0m \u001b[1m7s\u001b[0m 15ms/step - accuracy: 0.8226 - loss: 0.6946 - val_accuracy: 0.7955 - val_loss: 0.8337\n",
      "Epoch 26/50\n",
      "\u001b[1m458/458\u001b[0m \u001b[32m━━━━━━━━━━━━━━━━━━━━\u001b[0m\u001b[37m\u001b[0m \u001b[1m7s\u001b[0m 15ms/step - accuracy: 0.8206 - loss: 0.6949 - val_accuracy: 0.7972 - val_loss: 0.8352\n",
      "Epoch 27/50\n",
      "\u001b[1m458/458\u001b[0m \u001b[32m━━━━━━━━━━━━━━━━━━━━\u001b[0m\u001b[37m\u001b[0m \u001b[1m8s\u001b[0m 17ms/step - accuracy: 0.8175 - loss: 0.7060 - val_accuracy: 0.7995 - val_loss: 0.8161\n",
      "Epoch 28/50\n",
      "\u001b[1m458/458\u001b[0m \u001b[32m━━━━━━━━━━━━━━━━━━━━\u001b[0m\u001b[37m\u001b[0m \u001b[1m8s\u001b[0m 16ms/step - accuracy: 0.8188 - loss: 0.6845 - val_accuracy: 0.8021 - val_loss: 0.8159\n"
     ]
    }
   ],
   "source": [
    "gru_model, gru_history = training(\"GRU\", gru_model, X, y, batch_size=64, epochs=50)"
   ]
  },
  {
   "cell_type": "markdown",
   "metadata": {},
   "source": [
    "## Evaluation"
   ]
  },
  {
   "cell_type": "markdown",
   "metadata": {},
   "source": [
    "It is hard to evaluate and compare different models in this type of problem. We want to overfitt to generate name that looks like dino names. But in the same time, we would like to not overfitt to much in order to generate new names.\n",
    "\n",
    "I propose to see how models learnt (overfitting ? generalization ?) "
   ]
  },
  {
   "cell_type": "code",
   "execution_count": 50,
   "metadata": {},
   "outputs": [],
   "source": [
    "def plot_loss_comparison(histories, model_names):\n",
    "    \"\"\"\n",
    "    Plots training and validation loss for multiple models on the same graph, with different line styles.\n",
    "    \n",
    "    Parameters:\n",
    "        histories (list): List of history objects from training different models.\n",
    "        model_names (list): List of model names corresponding to each history object.\n",
    "    \"\"\"\n",
    "    plt.figure(figsize=(10, 6))\n",
    "    \n",
    "    # Define line styles for each model\n",
    "    line_styles = ['-', '--', '-.', ':']  # Cycle through these styles for distinction\n",
    "    \n",
    "    for i, (history, model_name) in enumerate(zip(histories, model_names)):\n",
    "        style = line_styles[i % len(line_styles)]  # Cycle through line styles\n",
    "        \n",
    "        # Plot training and validation loss with distinct styles\n",
    "        plt.plot(history.history['loss'], linestyle=style, label=f'{model_name} Training Loss')\n",
    "        plt.plot(history.history['val_loss'], linestyle=style, label=f'{model_name} Validation Loss', alpha=0.7)\n",
    "    \n",
    "    plt.title('Training and Validation Loss for Multiple Models')\n",
    "    plt.xlabel('Epochs')\n",
    "    plt.ylabel('Loss')\n",
    "    plt.legend()\n",
    "    plt.show()"
   ]
  },
  {
   "cell_type": "code",
   "execution_count": 51,
   "metadata": {},
   "outputs": [
    {
     "data": {
      "image/png": "[encoded data removed]",
      "text/plain": [
       "<Figure size 1000x600 with 1 Axes>"
      ]
     },
     "metadata": {},
     "output_type": "display_data"
    }
   ],
   "source": [
    "plot_loss_comparison(histories=[lstm_history, lstm_dropout_history, gru_history],\n",
    "                        model_names=[\"LSTM\", \"LSTM with Dropout\", \"GRU\"])"
   ]
  },
  {
   "cell_type": "markdown",
   "metadata": {},
   "source": [
    "It appears that the **LSTM** model learns quickly, achieving a lower training loss over time compared to the other models. Based on its validation loss curve, the model seems to generalize more or less well (but maybe is enough for our case ?), as the validation loss does not diverge significantly from the training loss. However, the direction of training and validation loss curves suggests mild underfitting, meaning the model might still benefit from additional capacity or a longer training duration to capture more complex patterns.\n",
    "\n",
    "The **LSTM with Dropout** model learns at a similar rate initially but stabilizes earlier than the standard LSTM. Its validation loss is close to the training loss, indicating better generalization and reduced overfitting, which is expected due to dropout regularization. However, this stability comes at the cost of a slightly higher error than the standard LSTM model. Is a high generalization what we need in this study case ? We will see it later.\n",
    "\n",
    "Finally, **GRU** shows decent performance, similar to the LSTM with Dropout in terms of generalization. Its training and validation loss curves are also close, which indicates good generalization and stability. However, like the LSTM with Dropout, it seems to converge to a slightly higher loss than the standard LSTM."
   ]
  },
  {
   "cell_type": "markdown",
   "metadata": {},
   "source": [
    "## Name Generation Tools (Deeplearning version)"
   ]
  },
  {
   "cell_type": "markdown",
   "metadata": {},
   "source": [
    "This function is the equivalent of `choose_top_k` implemented for `n_gram` model."
   ]
  },
  {
   "cell_type": "code",
   "execution_count": 52,
   "metadata": {},
   "outputs": [],
   "source": [
    "def sample_from_top_k(predictions, k):\n",
    "    \"\"\"\n",
    "    Samples an index from the top k predictions, weighted by probabilities.\n",
    "    \n",
    "    Parameters:\n",
    "        predictions (np.array): Array of probabilities for the next character.\n",
    "        k (int): Number of top predictions to consider.\n",
    "    \n",
    "    Returns:\n",
    "        int: The index of the chosen character.\n",
    "    \"\"\"\n",
    "    # Sort the probabilities and get the top k indices\n",
    "    top_k_indices = np.argsort(predictions)[-k:]\n",
    "    top_k_probs = predictions[top_k_indices]\n",
    "    \n",
    "    # Normalize probabilities to sum to 1\n",
    "    top_k_probs = top_k_probs / np.sum(top_k_probs)\n",
    "    \n",
    "    # Sample from the top k indices based on their probabilities\n",
    "    chosen_index = np.random.choice(top_k_indices, p=top_k_probs)\n",
    "    \n",
    "    return chosen_index"
   ]
  },
  {
   "cell_type": "markdown",
   "metadata": {},
   "source": [
    "Like it was done before, there is a function to generate one name with one of the implemented model. "
   ]
  },
  {
   "cell_type": "code",
   "execution_count": 53,
   "metadata": {},
   "outputs": [],
   "source": [
    "def generate_name(model, vocab: dict, reverse_vocab: dict, max_length: int, sequence_length: int, top_k: int) -> str:\n",
    "    \"\"\"\n",
    "    Generates a new name using the trained model, starting with the <0> token, with added randomness through top_k sampling.\n",
    "    \n",
    "    Parameters:\n",
    "        model (Model): Trained Keras model for name generation.\n",
    "        vocab (dict): Dictionary mapping characters to integer IDs.\n",
    "        reverse_vocab (dict): Dictionary mapping integer IDs back to characters.\n",
    "        max_length (int): Maximum length of the generated name.\n",
    "        sequence_length (int): Length of each input sequence for the model.\n",
    "        top_k (int): Number of top probable characters to sample from.\n",
    "    \n",
    "    Returns:\n",
    "        str: Generated name.\n",
    "    \"\"\"\n",
    "    # Start with the <0> token repeated to form the initial sequence\n",
    "    start_token = [vocab[\"0\"]] * sequence_length\n",
    "    name = []\n",
    "\n",
    "    for _ in range(max_length):\n",
    "        input_seq = np.array([start_token])  # Shape (1, sequence_length)\n",
    "        predictions = model.predict(input_seq, verbose=0)[0]  # Predict next character probabilities\n",
    "        \n",
    "        # Sample the next character index from the top k probable choices\n",
    "        next_char_index = sample_from_top_k(predictions, top_k)\n",
    "        next_char = reverse_vocab[next_char_index]\n",
    "        \n",
    "        # Stop if the end token <1> is generated\n",
    "        if next_char == \"1\":\n",
    "            break\n",
    "        \n",
    "        # Append the predicted character to the name\n",
    "        name.append(next_char)\n",
    "        \n",
    "        # Update the input sequence by shifting and adding the new character\n",
    "        start_token = start_token[1:] + [next_char_index]\n",
    "\n",
    "    # Join the list of characters to form the generated name\n",
    "    return ''.join(name)"
   ]
  },
  {
   "cell_type": "markdown",
   "metadata": {},
   "source": [
    "For testing purpose, another function to generate multiple names at one will be implemented."
   ]
  },
  {
   "cell_type": "code",
   "execution_count": 54,
   "metadata": {},
   "outputs": [],
   "source": [
    "def generate_multiple_names(model, vocab: dict, reverse_vocab: dict, num_names: int, max_length: int, sequence_length: int, top_k: int) -> list:\n",
    "    \"\"\"\n",
    "    Generates multiple names using the trained model, each starting with the <0> token and using top_k sampling.\n",
    "    \n",
    "    Parameters:\n",
    "        model (Model): Trained Keras model for name generation.\n",
    "        vocab (dict): Dictionary mapping characters to integer IDs.\n",
    "        reverse_vocab (dict): Dictionary mapping integer IDs back to characters.\n",
    "        num_names (int): Number of names to generate.\n",
    "        max_length (int): Maximum length of each generated name.\n",
    "        sequence_length (int): Length of each input sequence for the model.\n",
    "        top_k (int): Number of top probable characters to sample from.\n",
    "    \n",
    "    Returns:\n",
    "        list: A list of generated names.\n",
    "    \"\"\"\n",
    "    names = []\n",
    "    \n",
    "    for _ in range(num_names):\n",
    "        name = generate_name(model=model, vocab=vocab, reverse_vocab=reverse_vocab, max_length=max_length, sequence_length=sequence_length, top_k=top_k)\n",
    "        names.append(name)\n",
    "    \n",
    "    return names"
   ]
  },
  {
   "cell_type": "markdown",
   "metadata": {},
   "source": [
    "## Generation of Dino Names"
   ]
  },
  {
   "cell_type": "markdown",
   "metadata": {},
   "source": [
    "k (one of k most probable letters) = 1"
   ]
  },
  {
   "cell_type": "code",
   "execution_count": 55,
   "metadata": {},
   "outputs": [
    {
     "name": "stdout",
     "output_type": "stream",
     "text": [
      "Generated LSTM Names: ['raptor', 'raptor', 'raptor', 'raptor', 'raptor', 'raptor', 'raptor', 'raptor', 'raptor', 'raptor']\n",
      "Generated LSTM with Dropout Names: ['uanosaurus', 'uanosaurus', 'uanosaurus', 'uanosaurus', 'uanosaurus', 'uanosaurus', 'uanosaurus', 'uanosaurus', 'uanosaurus', 'uanosaurus']\n",
      "Generated GRU Names: ['nchisaurus', 'nchisaurus', 'nchisaurus', 'nchisaurus', 'nchisaurus', 'nchisaurus', 'nchisaurus', 'nchisaurus', 'nchisaurus', 'nchisaurus']\n"
     ]
    }
   ],
   "source": [
    "# Generate 10 names from each model\n",
    "num_names = 10\n",
    "\n",
    "lstm_names = generate_multiple_names(model=lstm_model, vocab=vocab, reverse_vocab=reverse_vocab, num_names=num_names, max_length=max_word_length, sequence_length=sequence_length, top_k=1)\n",
    "lstm_dropout_names = generate_multiple_names(model=lstm_dropout, vocab=vocab, reverse_vocab=reverse_vocab, num_names=num_names, max_length=max_word_length, sequence_length=sequence_length,top_k=1)\n",
    "gru_names = generate_multiple_names(model=gru_model, vocab=vocab, reverse_vocab=reverse_vocab, num_names=num_names, max_length=max_word_length, sequence_length=sequence_length,top_k=1)\n",
    "\n",
    "# Print the generated names\n",
    "print(\"Generated LSTM Names:\", lstm_names)\n",
    "print(\"Generated LSTM with Dropout Names:\", lstm_dropout_names)\n",
    "print(\"Generated GRU Names:\", gru_names)"
   ]
  },
  {
   "cell_type": "markdown",
   "metadata": {},
   "source": [
    "k = 2"
   ]
  },
  {
   "cell_type": "code",
   "execution_count": 56,
   "metadata": {},
   "outputs": [
    {
     "name": "stdout",
     "output_type": "stream",
     "text": [
      "Generated LSTM Names: ['raptor', 'ryodon', 'ryphosaurus', 'trosaurus', 'raptor', 'raptoraptor', 'ryphus', 'rahale', 'raptor', 'ryptor']\n",
      "Generated LSTM with Dropout Names: ['inosaurus', 'ulasaurus', 'ulanosaurus', 'inosaurus', 'iaraptor', 'inganosaurus', 'iangosaurus', 'uanosaurus', 'uanosaurus', 'ianganosaurus']\n",
      "Generated GRU Names: ['rchaeosaura', 'rgong', 'ndosaurus', 'ncondylus', 'ncheirus', 'ndromerus', 'nchenius', 'rgongosaurus', 'rgosaurus', 'ndosauraptor']\n"
     ]
    }
   ],
   "source": [
    "# Generate 10 names from each model\n",
    "num_names = 10\n",
    "\n",
    "lstm_names = generate_multiple_names(model=lstm_model, vocab=vocab, reverse_vocab=reverse_vocab, num_names=num_names, max_length=max_word_length, sequence_length=sequence_length, top_k=2)\n",
    "lstm_dropout_names = generate_multiple_names(model=lstm_dropout, vocab=vocab, reverse_vocab=reverse_vocab, num_names=num_names, max_length=max_word_length, sequence_length=sequence_length,top_k=2)\n",
    "gru_names = generate_multiple_names(model=gru_model, vocab=vocab, reverse_vocab=reverse_vocab, num_names=num_names, max_length=max_word_length, sequence_length=sequence_length,top_k=2)\n",
    "\n",
    "# Print the generated names\n",
    "print(\"Generated LSTM Names:\", lstm_names)\n",
    "print(\"Generated LSTM with Dropout Names:\", lstm_dropout_names)\n",
    "print(\"Generated GRU Names:\", gru_names)"
   ]
  },
  {
   "cell_type": "markdown",
   "metadata": {},
   "source": [
    "k = 5"
   ]
  },
  {
   "cell_type": "code",
   "execution_count": 57,
   "metadata": {},
   "outputs": [
    {
     "name": "stdout",
     "output_type": "stream",
     "text": [
      "Generated LSTM Names: ['ropelta', 'nichasaurus', 'ratothodesteondypsaurus', 'nedmoresaurus', 'ititan', 'iriasaurus', 'rahoes', 'ryosaurasaurus', 'bias', 'tamosaurus']\n",
      "Generated LSTM with Dropout Names: ['errus', 'indoraptor', 'ungshiceratitangosaurus', 'uanshanosaurus', 'unasaurus', 'iravur', 'ulicondrachinosaurus', 'yplus', 'yplosaurus', 'uangatops']\n",
      "Generated GRU Names: ['criscapauceratus', 'rator', 'ntiragosaurus', 'lomomaeus', 'nocerator', 'rchanosaurus', 'nchistoceratops', 'rcisaurus', 'ratops', 'rguraptor']\n"
     ]
    }
   ],
   "source": [
    "# Generate 10 names from each model\n",
    "num_names = 10\n",
    "\n",
    "lstm_names = generate_multiple_names(model=lstm_model, vocab=vocab, reverse_vocab=reverse_vocab, num_names=num_names, max_length=max_word_length, sequence_length=sequence_length, top_k=5)\n",
    "lstm_dropout_names = generate_multiple_names(model=lstm_dropout, vocab=vocab, reverse_vocab=reverse_vocab, num_names=num_names, max_length=max_word_length, sequence_length=sequence_length,top_k=5)\n",
    "gru_names = generate_multiple_names(model=gru_model, vocab=vocab, reverse_vocab=reverse_vocab, num_names=num_names, max_length=max_word_length, sequence_length=sequence_length,top_k=5)\n",
    "\n",
    "# Print the generated names\n",
    "print(\"Generated LSTM Names:\", lstm_names)\n",
    "print(\"Generated LSTM with Dropout Names:\", lstm_dropout_names)\n",
    "print(\"Generated GRU Names:\", gru_names)"
   ]
  },
  {
   "cell_type": "markdown",
   "metadata": {},
   "source": [
    "# Credits\n",
    "ChatGPT : For giving advice, logs and commenting my code. <br>\n",
    "Copilot : Auto-completion. Sometime, it auto-completed functions. *Note* : Functions were then modified to adapt my context, my vision or my logic.<br> \n",
    "Medium : [Using RNN Model For Text Generation](https://medium.com/analytics-vidhya/using-rnn-model-for-text-generation-c5a37017d142)<br>\n",
    "Professor Riveilli courses<br>\n",
    "Medium : [Generation de texte par n-gram](https://beranger.medium.com/nlp-g%C3%A9n%C3%A9ration-de-texte-par-n-grams-3894187f6cd4). Not the code this time but the idea and path to implement the model."
   ]
  }
 ],
 "metadata": {
  "kernelspec": {
   "display_name": "dino_name_generator-CGxwSDO1",
   "language": "python",
   "name": "python3"
  },
  "language_info": {
   "codemirror_mode": {
    "name": "ipython",
    "version": 3
   },
   "file_extension": ".py",
   "mimetype": "text/x-python",
   "name": "python",
   "nbconvert_exporter": "python",
   "pygments_lexer": "ipython3",
   "version": "3.10.0"
  }
 },
 "nbformat": 4,
 "nbformat_minor": 2
}
